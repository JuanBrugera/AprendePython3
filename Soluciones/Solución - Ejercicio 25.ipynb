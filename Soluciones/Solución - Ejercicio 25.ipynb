{
 "cells": [
  {
   "cell_type": "markdown",
   "metadata": {},
   "source": [
    "# Ejercicio 25\n",
    "\n",
    "## Enunciado\n",
    "Crea un programa que:\n",
    "\n",
    "1. Defina la clase MyRandom, cuyo único atributo sea un número entero.\n",
    "2. Implementa el método **get_number** de la clase que devuelva un número aleatorio entre 0 y el atributo anteriormente mencionado.\n",
    "3. Implementa el método **get_number_between** de la clase que devuelva un número aleatorio entre el atributo y un número dado."
   ]
  },
  {
   "cell_type": "markdown",
   "metadata": {},
   "source": [
    "### ¿Qué cosas nuevas necesitamos saber?\n",
    "- Creación de clases."
   ]
  },
  {
   "cell_type": "markdown",
   "metadata": {},
   "source": [
    "### Creación de clases.\n",
    "\n",
    "Como en otros lenguaje de programación orientada a objetos, Python permite la creación de clases.\n",
    "\n",
    "Estas clases, pueden tener distintos métodos y atributos.\n",
    "\n",
    "Para crear una clase es tan sencilo como:"
   ]
  },
  {
   "cell_type": "code",
   "execution_count": null,
   "metadata": {},
   "outputs": [],
   "source": [
    "class X:\n",
    "    i = None\n",
    "    \n",
    "    def squared_i(self):\n",
    "        return self.i ** 2\n",
    "    \n",
    "    def mult_i(self, n):\n",
    "        return self.i * n"
   ]
  },
  {
   "cell_type": "markdown",
   "metadata": {},
   "source": [
    "En el ejemplo anterior, hemos definido una clase llamada X. De antemano, sabemos que posee un atributo (i) y un método que devuelve i elevado al cuadrado.\n",
    "\n",
    "Como podemos comprobar, los métodos dentro de la clase, reciben el parámetro especial **self** en primer lugar para hacer referencia a sí mismos. Ello nos permite acceder a atributos o funciones de la propia clase.\n",
    "\n",
    "No obstante, este parámetro es de ámbito interno a la clase, por lo que no ha de usarse (no se puede en realidad de una manera fácil) fuera de la misma. Es por ello que cuando utilicemos funciones de nuestras clases empezaremos a partir del segundo parámetro (si lo tiene).\n",
    "\n",
    "Veamo como instanciar la clase y hacer uso de estos elementos:"
   ]
  },
  {
   "cell_type": "code",
   "execution_count": null,
   "metadata": {},
   "outputs": [],
   "source": [
    "x = X()\n",
    "print(type(x)) # esto imprime el tipo de x\n",
    "print(x.i) # esto imprime el valor de i\n",
    "print(x.squared_i()) # esto dará error, ya que estamos intentando elevar None al cuadrado\n",
    "print(x.mult_i()) # esto ni siquiera se llegará a ejecutar debido al fallo anterior"
   ]
  },
  {
   "cell_type": "markdown",
   "metadata": {},
   "source": [
    "Como hemos podido comprobar, la última sentencia produce un error, ya que estamos intentando elevar None al cuadrado y ello no es posible.\n",
    "\n",
    "Para ello podríamos establecer el valor de i antes de llamar a la función (Opción 1) o lo que es más cómodo, inicializar el valor de i al crear el objeto (Opción 2).\n",
    "\n",
    "Veamos ambos casos:"
   ]
  },
  {
   "cell_type": "code",
   "execution_count": null,
   "metadata": {},
   "outputs": [],
   "source": [
    "# Opción 1\n",
    "x.i = 2 # le damos el valor 2 a i\n",
    "print(x.squared_i()) # esto por lo tanto valdrá 4\n",
    "print(x.mult_i(5)) # y esto 10 (i * 5)"
   ]
  },
  {
   "cell_type": "markdown",
   "metadata": {},
   "source": [
    "Vista la primera opción, que no es la recomendable, necesitamos hacer una modificación en nuestra clase para poder dar valor a **i** al instanciar la clase.\n",
    "\n",
    "Debemos implementar el método especial **__init__** con los parámtros necesarios que queramo inicializar.\n",
    "\n",
    "Veamos:"
   ]
  },
  {
   "cell_type": "code",
   "execution_count": null,
   "metadata": {},
   "outputs": [],
   "source": [
    "class XWithArguments:\n",
    "    i = None\n",
    "    \n",
    "    def __init__(self, i):\n",
    "        self.i = i\n",
    "    \n",
    "    def squared_i(self):\n",
    "        return self.i ** 2\n",
    "    \n",
    "    def mult_i(self, n):\n",
    "        return self.i * n"
   ]
  },
  {
   "cell_type": "code",
   "execution_count": null,
   "metadata": {},
   "outputs": [],
   "source": [
    "# Ahora ya podemos dar valor a i desde el primer momento\n",
    "x = XWithArguments(10)\n",
    "print(x.i) # esto es 10, ya que asi lo hemos inicializado\n",
    "print(x.squared_i()) # esto por lo tanto será 100\n",
    "print(x.mult_i(5)) # y esto 50"
   ]
  },
  {
   "cell_type": "markdown",
   "metadata": {},
   "source": [
    "Eso es todo!\n",
    "\n",
    "Recuerda que todas las funciones dentro de una clase reciben el parámetro self como primer argumento pero no hay que usarlo al hacer uso de las mismas."
   ]
  },
  {
   "cell_type": "markdown",
   "metadata": {},
   "source": [
    "## Solución"
   ]
  },
  {
   "cell_type": "code",
   "execution_count": 1,
   "metadata": {},
   "outputs": [],
   "source": [
    "import random"
   ]
  },
  {
   "cell_type": "code",
   "execution_count": 12,
   "metadata": {},
   "outputs": [],
   "source": [
    "class MyRandom:\n",
    "    n = None\n",
    "    \n",
    "    def __init__(self, n):\n",
    "        self.n = n\n",
    "        \n",
    "    def get_number(self):\n",
    "        return random.randint(0, self.n)\n",
    "    \n",
    "    def get_number_between(self, n):\n",
    "        ma = max(self.n, n) # debemos de tener en cuenta que el número puede ser mayor o menor que el dado\n",
    "        mi = min(self.n, n) # y por lo tanto hemos de calcular el máximo y el mínimo\n",
    "        return random.randint(mi, ma) # para llamar a la función randint de manera correcta"
   ]
  },
  {
   "cell_type": "code",
   "execution_count": 13,
   "metadata": {},
   "outputs": [],
   "source": [
    "mr = MyRandom(10)"
   ]
  },
  {
   "cell_type": "code",
   "execution_count": 14,
   "metadata": {},
   "outputs": [
    {
     "data": {
      "text/plain": [
       "{0, 1, 2, 3, 4, 5, 6, 7, 8, 9, 10}"
      ]
     },
     "execution_count": 14,
     "metadata": {},
     "output_type": "execute_result"
    }
   ],
   "source": [
    "# para comprobar que funciona bien, llamamos a la función 100 veces y vemos los ditintos valores\n",
    "# que ha generado haciendo un set de la lista\n",
    "\n",
    "set([mr.get_number() for _ in range(100)])"
   ]
  },
  {
   "cell_type": "code",
   "execution_count": 15,
   "metadata": {},
   "outputs": [
    {
     "data": {
      "text/plain": [
       "{10, 11, 12, 13, 14}"
      ]
     },
     "execution_count": 15,
     "metadata": {},
     "output_type": "execute_result"
    }
   ],
   "source": [
    "set([mr.get_number_between(14) for _ in range(100)])"
   ]
  },
  {
   "cell_type": "code",
   "execution_count": 16,
   "metadata": {},
   "outputs": [
    {
     "data": {
      "text/plain": [
       "{7, 8, 9, 10}"
      ]
     },
     "execution_count": 16,
     "metadata": {},
     "output_type": "execute_result"
    }
   ],
   "source": [
    "set([mr.get_number_between(7) for _ in range(100)])"
   ]
  }
 ],
 "metadata": {
  "kernelspec": {
   "display_name": "Python 3",
   "language": "python",
   "name": "python3"
  },
  "language_info": {
   "codemirror_mode": {
    "name": "ipython",
    "version": 3
   },
   "file_extension": ".py",
   "mimetype": "text/x-python",
   "name": "python",
   "nbconvert_exporter": "python",
   "pygments_lexer": "ipython3",
   "version": "3.8.2"
  }
 },
 "nbformat": 4,
 "nbformat_minor": 4
}
