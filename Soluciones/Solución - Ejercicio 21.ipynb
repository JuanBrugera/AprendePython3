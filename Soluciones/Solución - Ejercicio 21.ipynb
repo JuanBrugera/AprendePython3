{
 "cells": [
  {
   "cell_type": "markdown",
   "metadata": {},
   "source": [
    "# Ejercicio 21\n",
    "\n",
    "## Enunciado\n",
    "Crea un programa que:\n",
    "\n",
    "1. Consulte las categorás disponibles de esta API: https://api.publicapis.org/\n",
    "2. Obtenga 10 registros aleatorios de la categoría deseada y los guarde en un fichero JSON añadiendo la fecha y hora de cuando se realizó la segunda llamada.\n",
    "\n",
    "## Info\n",
    "Documentación de la API: [enlace](https://github.com/davemachado/public-api)"
   ]
  },
  {
   "cell_type": "markdown",
   "metadata": {},
   "source": [
    "### ¿Qué cosas nuevas necesitamos saber?\n",
    "- Consultas a APIS mediante **requets**.\n",
    "- Guardar diccionarios en formato JSON mediante **json**."
   ]
  },
  {
   "cell_type": "markdown",
   "metadata": {},
   "source": [
    "### Consultas a APIS mediante **requets**.\n",
    "\n",
    "Mediante la librería requests podemos realizar llamas a APIS. Por lo general, las llamadas suelen ser para consultrar datos y para ello, como ya vimos se utiliza el comando **get()**.\n",
    "\n",
    "Veamos un ejemplo:"
   ]
  },
  {
   "cell_type": "code",
   "execution_count": 1,
   "metadata": {},
   "outputs": [],
   "source": [
    "import requests"
   ]
  },
  {
   "cell_type": "code",
   "execution_count": 2,
   "metadata": {},
   "outputs": [],
   "source": [
    "base_url = \"https://api.publicapis.org/\"\n",
    "endpoint = \"health\""
   ]
  },
  {
   "cell_type": "code",
   "execution_count": 3,
   "metadata": {},
   "outputs": [],
   "source": [
    "r = requests.get(base_url + endpoint)"
   ]
  },
  {
   "cell_type": "code",
   "execution_count": 4,
   "metadata": {},
   "outputs": [
    {
     "data": {
      "text/plain": [
       "200"
      ]
     },
     "execution_count": 4,
     "metadata": {},
     "output_type": "execute_result"
    }
   ],
   "source": [
    "# si nuestra llamada ha ido bien, la siguiente sentencia ha de devolver el valor 200\n",
    "r.status_code"
   ]
  },
  {
   "cell_type": "code",
   "execution_count": 5,
   "metadata": {},
   "outputs": [
    {
     "data": {
      "text/plain": [
       "{'alive': True}"
      ]
     },
     "execution_count": 5,
     "metadata": {},
     "output_type": "execute_result"
    }
   ],
   "source": [
    "# podemos ver los resultados accediendo a traves del método json() que nos devolvera los datos en formato diccionario\n",
    "results = r.json()\n",
    "results"
   ]
  },
  {
   "cell_type": "code",
   "execution_count": 6,
   "metadata": {},
   "outputs": [
    {
     "data": {
      "text/plain": [
       "True"
      ]
     },
     "execution_count": 6,
     "metadata": {},
     "output_type": "execute_result"
    }
   ],
   "source": [
    "# si queremos algun valor en especial, tan solo accedemos a el como en los diccionarios, ya que es el tipo del\n",
    "# objeto devuelto\n",
    "results.get('alive')"
   ]
  },
  {
   "cell_type": "markdown",
   "metadata": {},
   "source": [
    "### Guardar diccionarios en formato JSON mediante **json**.\n",
    "\n",
    "Mediante la librería json, podemos persistir los datos a un fichero JSON para posteriormente poder recuperarlos.\n",
    "\n",
    "Veamos como:"
   ]
  },
  {
   "cell_type": "code",
   "execution_count": 7,
   "metadata": {},
   "outputs": [],
   "source": [
    "import json"
   ]
  },
  {
   "cell_type": "code",
   "execution_count": 8,
   "metadata": {},
   "outputs": [],
   "source": [
    "# así guardamos el fichero\n",
    "with open('results.json', 'w') as f:\n",
    "    json.dump(results, f)\n",
    "    f.close()"
   ]
  },
  {
   "cell_type": "markdown",
   "metadata": {},
   "source": [
    "Como podréis comprobar, se ha generado un fichero llamado *results.json* en el directorio donde están vuestros ejercicios.\n",
    "\n",
    "Para recuperar el fichero, basta hacer el paso inverso:"
   ]
  },
  {
   "cell_type": "code",
   "execution_count": 9,
   "metadata": {},
   "outputs": [],
   "source": [
    "# así leemos el fichero, y, de manera adicional\n",
    "with open('results.json', 'r') as f:\n",
    "    results2 = json.load(f)\n",
    "    f.close()"
   ]
  },
  {
   "cell_type": "code",
   "execution_count": 10,
   "metadata": {},
   "outputs": [
    {
     "data": {
      "text/plain": [
       "{'alive': True}"
      ]
     },
     "execution_count": 10,
     "metadata": {},
     "output_type": "execute_result"
    }
   ],
   "source": [
    "results2"
   ]
  },
  {
   "cell_type": "markdown",
   "metadata": {},
   "source": [
    "## Solución"
   ]
  },
  {
   "cell_type": "code",
   "execution_count": 11,
   "metadata": {},
   "outputs": [],
   "source": [
    "import requests\n",
    "import random\n",
    "import json"
   ]
  },
  {
   "cell_type": "code",
   "execution_count": 12,
   "metadata": {},
   "outputs": [],
   "source": [
    "base_url = \"https://api.publicapis.org/\"\n",
    "endpoint = \"categories\""
   ]
  },
  {
   "cell_type": "code",
   "execution_count": 13,
   "metadata": {},
   "outputs": [],
   "source": [
    "categories = requests.get(base_url + endpoint).json()"
   ]
  },
  {
   "cell_type": "code",
   "execution_count": 14,
   "metadata": {},
   "outputs": [
    {
     "data": {
      "text/plain": [
       "['Animals',\n",
       " 'Anime',\n",
       " 'Anti-Malware',\n",
       " 'Art & Design',\n",
       " 'Books',\n",
       " 'Business',\n",
       " 'Calendar',\n",
       " 'Cloud Storage & File Sharing',\n",
       " 'Continuous Integration',\n",
       " 'Cryptocurrency',\n",
       " 'Currency Exchange',\n",
       " 'Data Validation',\n",
       " 'Development',\n",
       " 'Dictionaries',\n",
       " 'Documents & Productivity',\n",
       " 'Environment',\n",
       " 'Events',\n",
       " 'Finance',\n",
       " 'Food & Drink',\n",
       " 'Fraud Prevention',\n",
       " 'Games & Comics',\n",
       " 'Geocoding',\n",
       " 'Government',\n",
       " 'Health',\n",
       " 'Jobs',\n",
       " 'Machine Learning',\n",
       " 'Music',\n",
       " 'News',\n",
       " 'Open Data',\n",
       " 'Open Source Projects',\n",
       " 'Patent',\n",
       " 'Personality',\n",
       " 'Photography',\n",
       " 'Science & Math',\n",
       " 'Security',\n",
       " 'Shopping',\n",
       " 'Social',\n",
       " 'Sports & Fitness',\n",
       " 'Test Data',\n",
       " 'Text Analysis',\n",
       " 'Tracking',\n",
       " 'Transportation',\n",
       " 'URL Shorteners',\n",
       " 'Vehicle',\n",
       " 'Video',\n",
       " 'Weather']"
      ]
     },
     "execution_count": 14,
     "metadata": {},
     "output_type": "execute_result"
    }
   ],
   "source": [
    "categories"
   ]
  },
  {
   "cell_type": "code",
   "execution_count": 15,
   "metadata": {},
   "outputs": [],
   "source": [
    "results = []"
   ]
  },
  {
   "cell_type": "code",
   "execution_count": 16,
   "metadata": {},
   "outputs": [],
   "source": [
    "# yo las cojo aleatorias en este caso, pero vosotros podéis coger las 10 que queráis\n",
    "random_categories = random.choices(categories, k=10)"
   ]
  },
  {
   "cell_type": "code",
   "execution_count": 17,
   "metadata": {},
   "outputs": [],
   "source": [
    "for category in random_categories:\n",
    "    endpoint = \"random\"\n",
    "    payload = {'category': category} # añadimos los parámetros de esta forma para evitiar lidiar con los espacios en blanco    \n",
    "    data = requests.get(base_url + endpoint, params=payload).json()\n",
    "    results.append(data)"
   ]
  },
  {
   "cell_type": "code",
   "execution_count": 18,
   "metadata": {},
   "outputs": [],
   "source": [
    "with open('results.json', 'w') as f:\n",
    "    json.dump(results, f)\n",
    "    f.close()"
   ]
  },
  {
   "cell_type": "code",
   "execution_count": null,
   "metadata": {},
   "outputs": [],
   "source": []
  }
 ],
 "metadata": {
  "kernelspec": {
   "display_name": "Python 3",
   "language": "python",
   "name": "python3"
  },
  "language_info": {
   "codemirror_mode": {
    "name": "ipython",
    "version": 3
   },
   "file_extension": ".py",
   "mimetype": "text/x-python",
   "name": "python",
   "nbconvert_exporter": "python",
   "pygments_lexer": "ipython3",
   "version": "3.8.2"
  }
 },
 "nbformat": 4,
 "nbformat_minor": 4
}
