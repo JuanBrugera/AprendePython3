{
 "cells": [
  {
   "cell_type": "markdown",
   "metadata": {},
   "source": [
    "# Ejercicio 22\n",
    "\n",
    "## Enunciado\n",
    "Crea un programa que:\n",
    "\n",
    "1. Lea los datos de un fichro excel.\n",
    "2. Mediante expresiones regulares, halle aquellos emails incorrectos.\n",
    "2. Vuelque los datos a un fichero JSON cuyas claves se correspondan con las cabeceras del excel.\n",
    "\n",
    "## Aclaración\n",
    "\n",
    "Un email es válido siempre y cuando sea del tipo nombre.apellido@**algo**.**ext**, por ejemplo:\n",
    "\n",
    "- fernando.garcia@gmail.com\n",
    "- rosa.fuetes@yahoo.es\n",
    "\n",
    "Un email no es válido si no cumple con lo anteriormente expuesto, por ejemplo:\n",
    "\n",
    "- marta-cristina.noblejas@gmail.com\n",
    "- francisco.perales@yahoo.es.com\n",
    "- pedropicapiedra@roca.com"
   ]
  },
  {
   "cell_type": "markdown",
   "metadata": {},
   "source": [
    "### ¿Qué cosas nuevas necesitamos saber?\n",
    "- Lectura de ficheros xls mediante la librería **xlrd**."
   ]
  },
  {
   "cell_type": "markdown",
   "metadata": {},
   "source": [
    "### Lectura de ficheros xls mediante la librería **xlrd**.\n",
    "\n",
    "La librería xlrd nos permite leer ficheros Excel con extensión **.xls**.\n",
    "\n",
    "Para ello, primero deberemos instalarla con pip, ya que no es una librería nativa de Python. Si no recuerdas como hacerlo, puedes consultarlo en el Ejercicio 14, por ejemplo.\n",
    "\n",
    "Veamos como utilizarla:"
   ]
  },
  {
   "cell_type": "code",
   "execution_count": 1,
   "metadata": {},
   "outputs": [],
   "source": [
    "import xlrd"
   ]
  },
  {
   "cell_type": "code",
   "execution_count": 2,
   "metadata": {},
   "outputs": [],
   "source": [
    "personas = xlrd.open_workbook('personas.xls') # para acceder a nuestro excel"
   ]
  },
  {
   "cell_type": "code",
   "execution_count": 3,
   "metadata": {},
   "outputs": [
    {
     "name": "stdout",
     "output_type": "stream",
     "text": [
      "0 Hoja1\n"
     ]
    }
   ],
   "source": [
    "hojas = personas.sheet_names() # para comprobar las hojas de nuestro excel y su índice\n",
    "for i, hoja in enumerate(hojas):\n",
    "    print(i, hoja)"
   ]
  },
  {
   "cell_type": "code",
   "execution_count": 4,
   "metadata": {},
   "outputs": [],
   "source": [
    "hoja1 = personas.sheet_by_name(\"Hoja1\") # para acceder a los datos por nombre de la hoja\n",
    "hoja1 = personas.sheet_by_index(0) # para acceder a los datos por indice de la hoja"
   ]
  },
  {
   "cell_type": "code",
   "execution_count": 5,
   "metadata": {},
   "outputs": [
    {
     "name": "stdout",
     "output_type": "stream",
     "text": [
      "Nombre\n"
     ]
    }
   ],
   "source": [
    "fila = hoja1.row(0) # para acceder a la fila por índice\n",
    "celda = fila[0] # para acceder a la columna por indice dentro de la fila\n",
    "print(celda.value) # para obtener el valor de la celda"
   ]
  },
  {
   "cell_type": "code",
   "execution_count": 6,
   "metadata": {},
   "outputs": [
    {
     "name": "stdout",
     "output_type": "stream",
     "text": [
      "Nombre\n"
     ]
    }
   ],
   "source": [
    "columna = hoja1.col(0) # para acceder a la fila por índice\n",
    "celda = columna[0] # para acceder a la fila por indice dentro de la columna\n",
    "print(celda.value) # para obtener el valor de la celda"
   ]
  },
  {
   "cell_type": "markdown",
   "metadata": {},
   "source": [
    "Con esto es más que suficiente para resolver el ejercicio de hoy.\n",
    "\n",
    "Recuerda que has de hallar los emails incorrectos mediante expresiones regulares. Para ello deberás usar la función **fullmatch()** que comprueba si todo el string (no solo una parte, como hace match) cumple la expresión regular.\n",
    "\n",
    "Suerte!"
   ]
  },
  {
   "cell_type": "markdown",
   "metadata": {},
   "source": [
    "## Solución"
   ]
  },
  {
   "cell_type": "code",
   "execution_count": 1,
   "metadata": {},
   "outputs": [],
   "source": [
    "import re, xlrd, json"
   ]
  },
  {
   "cell_type": "code",
   "execution_count": 5,
   "metadata": {},
   "outputs": [],
   "source": [
    "personas = xlrd.open_workbook('../Otros/personas.xls')"
   ]
  },
  {
   "cell_type": "code",
   "execution_count": 6,
   "metadata": {},
   "outputs": [],
   "source": [
    "hoja1 = personas.sheet_by_index(0)"
   ]
  },
  {
   "cell_type": "code",
   "execution_count": 7,
   "metadata": {},
   "outputs": [],
   "source": [
    "n_cols = len(hoja1.row(0))"
   ]
  },
  {
   "cell_type": "code",
   "execution_count": 8,
   "metadata": {},
   "outputs": [],
   "source": [
    "n_rows = len(hoja1.col(0))"
   ]
  },
  {
   "cell_type": "code",
   "execution_count": 9,
   "metadata": {},
   "outputs": [],
   "source": [
    "headers = [cell.value for cell in hoja1.row(0)]"
   ]
  },
  {
   "cell_type": "code",
   "execution_count": 10,
   "metadata": {},
   "outputs": [],
   "source": [
    "def format_row(headers, row):\n",
    "     return {header: cell.value for header, cell in zip(headers, row)}"
   ]
  },
  {
   "cell_type": "code",
   "execution_count": 11,
   "metadata": {},
   "outputs": [],
   "source": [
    "formatted_rows = [format_row(headers, hoja1.row(i)) for i in range(1, n_rows)] # como la cero no la queremos porque son los encabezados, empezamos ponemos 1 como inicio del range"
   ]
  },
  {
   "cell_type": "code",
   "execution_count": 12,
   "metadata": {},
   "outputs": [],
   "source": [
    "def validate_email(mail):\n",
    "    pattern = re.compile(r'[a-zñ]*\\.[a-zñ]*@[a-zñ]*\\.[a-zñ]*')\n",
    "    if pattern.fullmatch(mail):\n",
    "        return True\n",
    "    else:\n",
    "        return False"
   ]
  },
  {
   "cell_type": "code",
   "execution_count": 13,
   "metadata": {},
   "outputs": [],
   "source": [
    "invalid_rows = list(filter(lambda x: not validate_email(x.get('Email')), formatted_rows))"
   ]
  },
  {
   "cell_type": "code",
   "execution_count": 14,
   "metadata": {},
   "outputs": [],
   "source": [
    "with open('invalidos.json', 'w') as f:\n",
    "    json.dump(invalid_rows, f)\n",
    "    f.close()"
   ]
  },
  {
   "cell_type": "code",
   "execution_count": null,
   "metadata": {},
   "outputs": [],
   "source": []
  }
 ],
 "metadata": {
  "kernelspec": {
   "display_name": "Python 3",
   "language": "python",
   "name": "python3"
  },
  "language_info": {
   "codemirror_mode": {
    "name": "ipython",
    "version": 3
   },
   "file_extension": ".py",
   "mimetype": "text/x-python",
   "name": "python",
   "nbconvert_exporter": "python",
   "pygments_lexer": "ipython3",
   "version": "3.8.2"
  }
 },
 "nbformat": 4,
 "nbformat_minor": 4
}
