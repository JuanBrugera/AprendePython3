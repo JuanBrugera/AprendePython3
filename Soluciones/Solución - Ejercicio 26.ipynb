{
 "cells": [
  {
   "cell_type": "markdown",
   "metadata": {},
   "source": [
    "# Ejercicio 26\n",
    "\n",
    "## Enunciado\n",
    "Crea un programa que:\n",
    "\n",
    "1. Defina la clase **Animal**. \n",
    "2. Defina las clases **Perro**, **Gato** y **Loro** que hereden de **Animal**.\n",
    "3. Implementa el método **saludar** en la clase **Animal** de tal manera que imprima un mensaje del tipo:\n",
    "\n",
    "```\n",
    "Hola, me llamo Rocky, soy un Perro y por lo tanto tengo 4 patas.\n",
    "```\n",
    "4. Pregunte al usuario si tuviese un animal de que tipo sería y haz que el animal le salude.\n",
    "\n",
    "## Aclaraciones\n",
    "\n",
    "El nombre del animal se pasará como parámetro al construir la clase correspondiente y el tipo de Animal se obtendrá de la propia clase. El número de patas del animal será constante para cada clase de Animal."
   ]
  },
  {
   "cell_type": "markdown",
   "metadata": {},
   "source": [
    "### ¿Qué cosas nuevas necesitamos saber?\n",
    "- Herencia de clases."
   ]
  },
  {
   "cell_type": "markdown",
   "metadata": {},
   "source": [
    "### Herencia de clases.\n",
    "\n",
    "Como en otros lenguaje de programación orientada a objetos, Python permite la herencia de clases.\n",
    "\n",
    "Ello nos permite definir atributos y métodos comunes sin necesidad de implementarlos en todas y cada una de las clases.\n",
    "\n",
    "Veamos un ejemplo:"
   ]
  },
  {
   "cell_type": "code",
   "execution_count": 1,
   "metadata": {},
   "outputs": [],
   "source": [
    "class Vehiculo:\n",
    "    ruedas = None\n",
    "    def tipo(self):\n",
    "        return self.__class__.__name__ # esto devuelve el nombre de la clase del objeto self, es decir, el nombre de la propia clase"
   ]
  },
  {
   "cell_type": "code",
   "execution_count": 2,
   "metadata": {},
   "outputs": [
    {
     "name": "stdout",
     "output_type": "stream",
     "text": [
      "Vehiculo\n",
      "None\n"
     ]
    }
   ],
   "source": [
    "v = Vehiculo()\n",
    "print(v.tipo())\n",
    "print(v.ruedas)"
   ]
  },
  {
   "cell_type": "code",
   "execution_count": 3,
   "metadata": {},
   "outputs": [],
   "source": [
    "# ahora vamos a crear la clase coche que hereda de Vehiculo\n",
    "# para ello la sintaxis es la siguiente\n",
    "\n",
    "class Coche(Vehiculo): # De esta manera indicamos a Coche que herede todos los métodos y tributos de Vehiculo\n",
    "    ruedas = 4\n",
    "    marca = None\n",
    "    def __init__(self, marca):\n",
    "        self.marca = marca\n",
    "    def reverse_marca(self):\n",
    "        return self.marca[::-1]"
   ]
  },
  {
   "cell_type": "code",
   "execution_count": 4,
   "metadata": {},
   "outputs": [
    {
     "name": "stdout",
     "output_type": "stream",
     "text": [
      "Coche\n",
      "4\n",
      "WMB\n"
     ]
    }
   ],
   "source": [
    "my_car = Coche('BMW') # ahora podemos hacer uso tanto de los métodos propios de Coche como de los de Vehículo\n",
    "print(my_car.tipo()) # compo podemos ver, podemos usar la función tipo de Vehiculo ya que Coche la ha heredado y devuelve el valor Coche, ya que se llama desde un objeto de tipo Coche\n",
    "print(my_car.ruedas) # en este caso se imprime 4 ya que hemo sobreescrito el valor de ruedas de None a 4 ya que es el número de ruedas que tiene un coche\n",
    "print(my_car.reverse_marca())"
   ]
  },
  {
   "cell_type": "markdown",
   "metadata": {},
   "source": [
    "Dado que **marca** y **reverse_marca** son elementos de las clase Coche, si tratamos de utilizarlos desde Vehiculo obtendremos errores indicando que no son elementos de la clase."
   ]
  },
  {
   "cell_type": "code",
   "execution_count": 5,
   "metadata": {},
   "outputs": [
    {
     "ename": "AttributeError",
     "evalue": "'Vehiculo' object has no attribute 'marca'",
     "output_type": "error",
     "traceback": [
      "\u001b[1;31m---------------------------------------------------------------------------\u001b[0m",
      "\u001b[1;31mAttributeError\u001b[0m                            Traceback (most recent call last)",
      "\u001b[1;32m<ipython-input-5-71e49e143624>\u001b[0m in \u001b[0;36m<module>\u001b[1;34m\u001b[0m\n\u001b[1;32m----> 1\u001b[1;33m \u001b[0mv\u001b[0m\u001b[1;33m.\u001b[0m\u001b[0mmarca\u001b[0m\u001b[1;33m\u001b[0m\u001b[1;33m\u001b[0m\u001b[0m\n\u001b[0m",
      "\u001b[1;31mAttributeError\u001b[0m: 'Vehiculo' object has no attribute 'marca'"
     ]
    }
   ],
   "source": [
    "v.marca"
   ]
  },
  {
   "cell_type": "code",
   "execution_count": 6,
   "metadata": {},
   "outputs": [
    {
     "ename": "AttributeError",
     "evalue": "'Vehiculo' object has no attribute 'reverse_marca'",
     "output_type": "error",
     "traceback": [
      "\u001b[1;31m---------------------------------------------------------------------------\u001b[0m",
      "\u001b[1;31mAttributeError\u001b[0m                            Traceback (most recent call last)",
      "\u001b[1;32m<ipython-input-6-b347cdac7f51>\u001b[0m in \u001b[0;36m<module>\u001b[1;34m\u001b[0m\n\u001b[1;32m----> 1\u001b[1;33m \u001b[0mv\u001b[0m\u001b[1;33m.\u001b[0m\u001b[0mreverse_marca\u001b[0m\u001b[1;33m(\u001b[0m\u001b[1;33m)\u001b[0m\u001b[1;33m\u001b[0m\u001b[1;33m\u001b[0m\u001b[0m\n\u001b[0m",
      "\u001b[1;31mAttributeError\u001b[0m: 'Vehiculo' object has no attribute 'reverse_marca'"
     ]
    }
   ],
   "source": [
    "v.reverse_marca()"
   ]
  },
  {
   "cell_type": "markdown",
   "metadata": {},
   "source": [
    "Eso es todo, a por ello!"
   ]
  },
  {
   "cell_type": "markdown",
   "metadata": {},
   "source": [
    "## Solución"
   ]
  },
  {
   "cell_type": "code",
   "execution_count": 7,
   "metadata": {},
   "outputs": [],
   "source": [
    "from mislibrerias import entradas"
   ]
  },
  {
   "cell_type": "code",
   "execution_count": 8,
   "metadata": {},
   "outputs": [],
   "source": [
    "class Animal:\n",
    "    patas = None\n",
    "    nombre = None\n",
    "    \n",
    "    def __init__(self, nombre):\n",
    "        self.nombre = nombre\n",
    "    \n",
    "    def saludar(self):\n",
    "        print(f\"Hola! Me llamo {self.nombre}, soy un {self.__class__.__name__} y por lo tanto tengo {self.patas} patas!!\")"
   ]
  },
  {
   "cell_type": "code",
   "execution_count": 9,
   "metadata": {},
   "outputs": [],
   "source": [
    "class Perro(Animal):\n",
    "    patas = 4\n",
    "\n",
    "class Gato(Animal):\n",
    "    patas = 4\n",
    "    \n",
    "class Loro(Animal):\n",
    "    patas = 2"
   ]
  },
  {
   "cell_type": "code",
   "execution_count": 10,
   "metadata": {},
   "outputs": [],
   "source": [
    "options = [Perro, Gato, Loro]"
   ]
  },
  {
   "cell_type": "code",
   "execution_count": 11,
   "metadata": {},
   "outputs": [
    {
     "name": "stdout",
     "output_type": "stream",
     "text": [
      "0: Perro\n",
      "1: Gato\n",
      "2: Loro\n"
     ]
    },
    {
     "name": "stdin",
     "output_type": "stream",
     "text": [
      "Selecciona el tipo de animal que quieres:  1\n",
      "Indica un nombre para tu Gato:  Bigotes\n"
     ]
    }
   ],
   "source": [
    "for i, option in enumerate(options):\n",
    "    print(f\"{i}: {option.__name__}\")\n",
    "\n",
    "\n",
    "opcion = len(options)\n",
    "while opcion >= len(options):\n",
    "    opcion = entradas.get_int(\"Selecciona el tipo de animal que quieres: \")\n",
    "    \n",
    "animal = options[opcion]\n",
    "name = entradas.get_str(f\"Indica un nombre para tu {animal.__name__}: \")"
   ]
  },
  {
   "cell_type": "code",
   "execution_count": 12,
   "metadata": {},
   "outputs": [
    {
     "name": "stdout",
     "output_type": "stream",
     "text": [
      "Hola! Me llamo Bigotes, soy un Gato y por lo tanto tengo 4 patas!!\n"
     ]
    }
   ],
   "source": [
    "# como animal es Perro, Gato o Loro esto es lo mismo que hacer Perro(name), etc.\n",
    "my_animal = animal(name)\n",
    "my_animal.saludar()"
   ]
  }
 ],
 "metadata": {
  "kernelspec": {
   "display_name": "Python 3",
   "language": "python",
   "name": "python3"
  },
  "language_info": {
   "codemirror_mode": {
    "name": "ipython",
    "version": 3
   },
   "file_extension": ".py",
   "mimetype": "text/x-python",
   "name": "python",
   "nbconvert_exporter": "python",
   "pygments_lexer": "ipython3",
   "version": "3.8.2"
  }
 },
 "nbformat": 4,
 "nbformat_minor": 4
}
