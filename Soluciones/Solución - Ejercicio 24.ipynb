{
 "cells": [
  {
   "cell_type": "markdown",
   "metadata": {},
   "source": [
    "# Ejercicio 24\n",
    "\n",
    "## Enunciado\n",
    "Crea un programa que:\n",
    "\n",
    "1. Pida al usuario un link de Aliexpress.\n",
    "2. Halle todos los enlaces de imágenes .jpg **distintos** disponibles mediante regex (sin utilizar BeautifulSoup) y los descargue."
   ]
  },
  {
   "cell_type": "markdown",
   "metadata": {},
   "source": [
    "### ¿Qué cosas nuevas necesitamos saber?\n",
    "- Descarga de ficheros mediante **wget**."
   ]
  },
  {
   "cell_type": "markdown",
   "metadata": {},
   "source": [
    "### Descarga de ficheros mediante **wget**\n",
    "\n",
    "La librería wget nos permite descargar ficheros de internet.\n",
    "\n",
    "Para ello, primero deberemos instalarla con pip, ya que no es una librería nativa de Python. Si no recuerdas como hacerlo, puedes consultarlo en el Ejercicio 14, por ejemplo.\n",
    "\n",
    "Veamos como utilizarla:"
   ]
  },
  {
   "cell_type": "code",
   "execution_count": null,
   "metadata": {},
   "outputs": [],
   "source": [
    "import wget"
   ]
  },
  {
   "cell_type": "code",
   "execution_count": null,
   "metadata": {},
   "outputs": [],
   "source": [
    "url_file = 'https://ae01.alicdn.com/kf/Ud26312a248cc4456bcf99d796718b144k/Xiaomi-Redmi-Note-9S-64GB-Dual-Sim-Gris.jpg'"
   ]
  },
  {
   "cell_type": "code",
   "execution_count": null,
   "metadata": {},
   "outputs": [],
   "source": [
    "wget.download(url_file)"
   ]
  },
  {
   "cell_type": "markdown",
   "metadata": {},
   "source": [
    "Como habéis podido comprobar, se habrá descargado un fichero con nombre **Xiaomi-Redmi-Note-9S-64GB-Dual-Sim-Gris.jpg** en la carpeta dónde esté este notebook.\n",
    "\n",
    "Suerte!"
   ]
  },
  {
   "cell_type": "markdown",
   "metadata": {},
   "source": [
    "## Solución"
   ]
  },
  {
   "cell_type": "markdown",
   "metadata": {},
   "source": [
    "Recuerda analizar el código fuente de la página para poder hacer tu regex lo más específica posible y evitar resultados indeseados ;)\n",
    "\n",
    "Para probar tus regex, puedes usar esta página [regex101](https://regex101.com/)."
   ]
  },
  {
   "cell_type": "code",
   "execution_count": null,
   "metadata": {},
   "outputs": [],
   "source": [
    "import re\n",
    "import requests\n",
    "import wget"
   ]
  },
  {
   "cell_type": "code",
   "execution_count": null,
   "metadata": {},
   "outputs": [],
   "source": [
    "url = input(\"Dame un enlace de Aliexpress: \")"
   ]
  },
  {
   "cell_type": "code",
   "execution_count": null,
   "metadata": {},
   "outputs": [],
   "source": [
    "source = requests.get(url).text"
   ]
  },
  {
   "cell_type": "code",
   "execution_count": null,
   "metadata": {},
   "outputs": [],
   "source": [
    "pattern = re.compile(r'https://ae01.alicdn.com/kf/[a-zA-Z0-9]+/.*?\\.jpg')"
   ]
  },
  {
   "cell_type": "code",
   "execution_count": null,
   "metadata": {},
   "outputs": [],
   "source": [
    "results = set(pattern.findall(source))"
   ]
  },
  {
   "cell_type": "code",
   "execution_count": null,
   "metadata": {},
   "outputs": [],
   "source": [
    "for each in results:\n",
    "    wget.download(each)"
   ]
  },
  {
   "cell_type": "code",
   "execution_count": null,
   "metadata": {},
   "outputs": [],
   "source": []
  }
 ],
 "metadata": {
  "kernelspec": {
   "display_name": "Python 3",
   "language": "python",
   "name": "python3"
  },
  "language_info": {
   "codemirror_mode": {
    "name": "ipython",
    "version": 3
   },
   "file_extension": ".py",
   "mimetype": "text/x-python",
   "name": "python",
   "nbconvert_exporter": "python",
   "pygments_lexer": "ipython3",
   "version": "3.7.2"
  }
 },
 "nbformat": 4,
 "nbformat_minor": 4
}
