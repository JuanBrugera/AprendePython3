{
 "cells": [
  {
   "cell_type": "markdown",
   "metadata": {},
   "source": [
    "# Ejercicio 7\n",
    "\n",
    "## Enunciado\n",
    "Crea un programa que:\n",
    "\n",
    "1. Pida a dos usuarios que elijan entre \"piedra (r), papel (p) o tijera (s)\" e indique cual de los dos ha ganado o si han empatado.\n",
    "\n",
    "## Extras\n",
    "2. Haz el programa resistente a fallos, es decir, que compruebe que las opciones elegidas sean válidas.\n",
    "\n",
    "## Aclaraciones\n",
    "1. Piedra gana a Tijera, Tijera a Papel y Papel a Piedra."
   ]
  },
  {
   "cell_type": "markdown",
   "metadata": {},
   "source": [
    "### ¿Qué cosas nuevas necesitamos saber?\n",
    "- El usos de diccionarios. El tipo **dict()** y la función **get()**."
   ]
  },
  {
   "cell_type": "markdown",
   "metadata": {},
   "source": [
    "Veamos ejemplos:"
   ]
  },
  {
   "cell_type": "markdown",
   "metadata": {},
   "source": [
    "### El usos de diccionarios. El tipo **dict()** y la función **get()**.\n",
    "De manera similar a lo que entendemos por un diccionario tradicional, este es un tipo de objeto que dada una clave (key) nos devuelve un valor (value).\n",
    "\n",
    "Se suelen utilizar para contar el número de veces que aparece una palabra en un texto determinado. En este caso la palabra sería la clave y el número de veces que aparece el valor.\n",
    "\n",
    "No obstante, podemos utilizarlo para un sin fin de casuísticas.\n",
    "\n",
    "Para recuperar el valor de una clave en concreto, utilizaremos la función **get()**.\n",
    "\n",
    "Veamos como crear un diccionario y algunos ejemplos de uso:"
   ]
  },
  {
   "cell_type": "code",
   "execution_count": null,
   "metadata": {},
   "outputs": [],
   "source": [
    "# En este ejemplo, simularemos un listín telefónico\n",
    "# Para crear un diccionario, hacemos uso de la siguiente sintaxis\n",
    "listin = {\n",
    "    \"Pedro\": \"666 222 123\",\n",
    "    \"Jose\": \"655 444 000\"\n",
    "}"
   ]
  },
  {
   "cell_type": "code",
   "execution_count": null,
   "metadata": {},
   "outputs": [],
   "source": [
    "# Ahora consultemos el número de Pedro, de Jose\n",
    "print(\"Número de Pedro:\", listin.get(\"Pedro\"))\n",
    "print(\"Número de Jose:\", listin.get(\"Jose\"))"
   ]
  },
  {
   "cell_type": "code",
   "execution_count": null,
   "metadata": {},
   "outputs": [],
   "source": [
    "# Ahora consultemos el número de Juan\n",
    "print(\"Número de Juan:\", listin.get(\"Juan\"))"
   ]
  },
  {
   "cell_type": "markdown",
   "metadata": {},
   "source": [
    "Parece obvio que, dado que no hemos incluido el número de Juan en el listín, no sabe indicarnos cúal es."
   ]
  },
  {
   "cell_type": "code",
   "execution_count": null,
   "metadata": {},
   "outputs": [],
   "source": [
    "# Ahora creemos un diccionario con la actual clasificación de la liga de fútbol española de tal manera que cuando\n",
    "# preguntemos quien es el primero, nos devuelva el nombre del equipo que ocupa la primera posición\n",
    "clasificacion = {\n",
    "    1: \"Barcelona\",\n",
    "    2: \"Real Madrid\",\n",
    "    3: \"Sevilla\",\n",
    "    4: \"Real Sociedad\",\n",
    "    5: \"Getafe\"\n",
    "}"
   ]
  },
  {
   "cell_type": "code",
   "execution_count": null,
   "metadata": {},
   "outputs": [],
   "source": [
    "# Imprimamos la información\n",
    "for i in range(1, 6):\n",
    "    print(\"El clasificado número\", i, \"es el\", clasificacion.get(i))"
   ]
  },
  {
   "cell_type": "code",
   "execution_count": null,
   "metadata": {},
   "outputs": [],
   "source": [
    "# Si le preguntamos por el 6 clasificado, dado que no lo hemos incluido, nos dirá que no lo conoce\n",
    "print(\"El clasificado número\", 6, \"es el\", clasificacion.get(6))"
   ]
  },
  {
   "cell_type": "code",
   "execution_count": null,
   "metadata": {},
   "outputs": [],
   "source": [
    "# No obstante, le podemos decir a get() que si no encuentra la clave, nos devuelva un valor por defecto\n",
    "# de esta manera\n",
    "print(\"El clasificado número\", 6, \"es el\", clasificacion.get(6, \"EQUIPO DESCONOCIDO\"))"
   ]
  },
  {
   "cell_type": "markdown",
   "metadata": {},
   "source": [
    "**NOTA**: Como podemos comprobar, tanto las claves como los valores del diccionario, pueden ser de cualquier tipo."
   ]
  },
  {
   "cell_type": "markdown",
   "metadata": {},
   "source": [
    "Eso es todo por hoy. **COMENCEMOS!!**"
   ]
  },
  {
   "cell_type": "markdown",
   "metadata": {},
   "source": [
    "## Solución"
   ]
  },
  {
   "cell_type": "markdown",
   "metadata": {},
   "source": [
    "1. Crea un diccionario con todas las combinaciones posibles (9 en total). El valor de cada clave ha de ser el jugador que haya ganado (1 ó 2) ó 0 en caso de empate."
   ]
  },
  {
   "cell_type": "code",
   "execution_count": null,
   "metadata": {},
   "outputs": [],
   "source": []
  },
  {
   "cell_type": "markdown",
   "metadata": {},
   "source": [
    "2. Pide a los usuarios que elijan."
   ]
  },
  {
   "cell_type": "code",
   "execution_count": null,
   "metadata": {},
   "outputs": [],
   "source": []
  },
  {
   "cell_type": "code",
   "execution_count": null,
   "metadata": {},
   "outputs": [],
   "source": []
  },
  {
   "cell_type": "markdown",
   "metadata": {},
   "source": [
    "3. Comprueba quién ha ganado y muestralo por pantalla indicando la selección de cada jugador."
   ]
  },
  {
   "cell_type": "code",
   "execution_count": null,
   "metadata": {},
   "outputs": [],
   "source": []
  },
  {
   "cell_type": "code",
   "execution_count": null,
   "metadata": {},
   "outputs": [],
   "source": []
  },
  {
   "cell_type": "code",
   "execution_count": null,
   "metadata": {},
   "outputs": [],
   "source": []
  },
  {
   "cell_type": "markdown",
   "metadata": {},
   "source": [
    "4. A por el extra."
   ]
  },
  {
   "cell_type": "code",
   "execution_count": null,
   "metadata": {},
   "outputs": [],
   "source": []
  }
 ],
 "metadata": {
  "kernelspec": {
   "display_name": "Python 3",
   "language": "python",
   "name": "python3"
  },
  "language_info": {
   "codemirror_mode": {
    "name": "ipython",
    "version": 3
   },
   "file_extension": ".py",
   "mimetype": "text/x-python",
   "name": "python",
   "nbconvert_exporter": "python",
   "pygments_lexer": "ipython3",
   "version": "3.7.2"
  }
 },
 "nbformat": 4,
 "nbformat_minor": 4
}
