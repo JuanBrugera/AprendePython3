{
 "cells": [
  {
   "cell_type": "markdown",
   "metadata": {},
   "source": [
    "# Ejercicio 26\n",
    "\n",
    "## Enunciado\n",
    "Crea un programa que:\n",
    "\n",
    "1. Defina la clase **Animal**. \n",
    "2. Defina las clases **Perro**, **Gato** y **Loro** que hereden de **Animal**.\n",
    "3. Implementa el método **saludar** en la clase **Animal** de tal manera que imprima un mensaje del tipo:\n",
    "\n",
    "```\n",
    "Hola, me llamo Rocky, soy un Perro y por lo tanto tengo 4 patas.\n",
    "```\n",
    "4. Pregunte al usuario si tuviese un animal de que tipo sería y haz que el animal le salude.\n",
    "\n",
    "## Aclaraciones\n",
    "\n",
    "El nombre del animal se pasará como parámetro al construir la clase correspondiente y el tipo de Animal se obtendrá de la propia clase. El número de patas del animal será constante para cada clase de Animal."
   ]
  },
  {
   "cell_type": "markdown",
   "metadata": {},
   "source": [
    "### ¿Qué cosas nuevas necesitamos saber?\n",
    "- Herencia de clases."
   ]
  },
  {
   "cell_type": "markdown",
   "metadata": {},
   "source": [
    "### Herencia de clases.\n",
    "\n",
    "Como en otros lenguaje de programación orientada a objetos, Python permite la herencia de clases.\n",
    "\n",
    "Ello nos permite definir atributos y métodos comunes sin necesidad de implementarlos en todas y cada una de las clases.\n",
    "\n",
    "Veamos un ejemplo:"
   ]
  },
  {
   "cell_type": "code",
   "execution_count": null,
   "metadata": {},
   "outputs": [],
   "source": [
    "class Vehiculo:\n",
    "    ruedas = None\n",
    "    def tipo(self):\n",
    "        return self.__class__.__name__ # esto devuelve el nombre de la clase del objeto self, es decir, el nombre de la propia clase"
   ]
  },
  {
   "cell_type": "code",
   "execution_count": null,
   "metadata": {},
   "outputs": [],
   "source": [
    "v = Vehiculo()\n",
    "print(v.tipo())\n",
    "print(v.ruedas)"
   ]
  },
  {
   "cell_type": "code",
   "execution_count": null,
   "metadata": {},
   "outputs": [],
   "source": [
    "# ahora vamos a crear la clase coche que hereda de Vehiculo\n",
    "# para ello la sintaxis es la siguiente\n",
    "\n",
    "class Coche(Vehiculo): # De esta manera indicamos a Coche que herede todos los métodos y tributos de Vehiculo\n",
    "    ruedas = 4\n",
    "    marca = None\n",
    "    def __init__(self, marca):\n",
    "        self.marca = marca\n",
    "    def reverse_marca(self):\n",
    "        return self.marca[::-1]"
   ]
  },
  {
   "cell_type": "code",
   "execution_count": null,
   "metadata": {},
   "outputs": [],
   "source": [
    "my_car = Coche('BMW') # ahora podemos hacer uso tanto de los métodos propios de Coche como de los de Vehículo\n",
    "print(my_car.tipo()) # compo podemos ver, podemos usar la función tipo de Vehiculo ya que Coche la ha heredado y devuelve el valor Coche, ya que se llama desde un objeto de tipo Coche\n",
    "print(my_car.ruedas) # en este caso se imprime 4 ya que hemo sobreescrito el valor de ruedas de None a 4 ya que es el número de ruedas que tiene un coche\n",
    "print(my_car.reverse_marca())"
   ]
  },
  {
   "cell_type": "markdown",
   "metadata": {},
   "source": [
    "Dado que **marca** y **reverse_marca** son elementos de las clase Coche, si tratamos de utilizarlos desde Vehiculo obtendremos errores indicando que no son elementos de la clase."
   ]
  },
  {
   "cell_type": "code",
   "execution_count": null,
   "metadata": {},
   "outputs": [],
   "source": [
    "v.marca"
   ]
  },
  {
   "cell_type": "code",
   "execution_count": null,
   "metadata": {},
   "outputs": [],
   "source": [
    "v.reverse_marca()"
   ]
  },
  {
   "cell_type": "markdown",
   "metadata": {},
   "source": [
    "Eso es todo, a por ello!"
   ]
  },
  {
   "cell_type": "markdown",
   "metadata": {},
   "source": [
    "## Solución"
   ]
  }
 ],
 "metadata": {
  "kernelspec": {
   "display_name": "Python 3",
   "language": "python",
   "name": "python3"
  },
  "language_info": {
   "codemirror_mode": {
    "name": "ipython",
    "version": 3
   },
   "file_extension": ".py",
   "mimetype": "text/x-python",
   "name": "python",
   "nbconvert_exporter": "python",
   "pygments_lexer": "ipython3",
   "version": "3.8.2"
  }
 },
 "nbformat": 4,
 "nbformat_minor": 4
}
