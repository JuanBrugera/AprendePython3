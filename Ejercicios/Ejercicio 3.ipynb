{
 "cells": [
  {
   "cell_type": "markdown",
   "metadata": {},
   "source": [
    "# Ejercicio 3\n",
    "\n",
    "## Enunciado\n",
    "Crea un programa que dada una lista de números enteros:\n",
    "\n",
    "1. Imprima todos aquellos que sean menores que 10.\n",
    "2. Imprima todos aquellos que sean múltiplos de 5.\n",
    "\n",
    "Extra:\n",
    "\n",
    "3. Repite los ejercicios anteriores pero en vez de imprimir uno a uno los valores, crea una nueva lista para cada uno que contengan los elementos en cuestión y, posteriormente, imprímela."
   ]
  },
  {
   "cell_type": "markdown",
   "metadata": {},
   "source": [
    "### Recapitulemos\n",
    "A partir de hoy, esta es una tarea que corre de vuestra cuenta. Absolutamente todo lo necesario para resolver el ejercicio o bien lo hemos visto en los ejercicios 1 y 2 o bien lo vamos a aprender ahora."
   ]
  },
  {
   "cell_type": "markdown",
   "metadata": {},
   "source": [
    "### ¿Qué cosas nuevas necesitamos saber?\n",
    "- El tipo **list**.\n",
    "- El resto de operadores de comparación.\n",
    "- El uso de bucles (o loops) de tipo **for**."
   ]
  },
  {
   "cell_type": "markdown",
   "metadata": {},
   "source": [
    "Veamos ejemplos de ambos objetivos:"
   ]
  },
  {
   "cell_type": "markdown",
   "metadata": {},
   "source": [
    "### El tipo **list**.\n",
    "\n",
    "El tipo list, como su propio nombre indica, es el tipo que da nombre a las listas de otros tipos. Cada elemento de la lista puede ser de un tipo diferente, pero, por lo general, no suele ser algo corriente de ver."
   ]
  },
  {
   "cell_type": "code",
   "execution_count": null,
   "metadata": {},
   "outputs": [],
   "source": [
    "x = [1, \"2\", True] # esto es una lista de 3 elementos. Un int, un str y un bool\n",
    "y = [1, 2, 3, 4, 5] # esto es una lista de 5 elementos. Todos ellos de tipo int\n",
    "z = [] # esto es una lista vacia"
   ]
  },
  {
   "cell_type": "code",
   "execution_count": null,
   "metadata": {},
   "outputs": [],
   "source": [
    "# Como sucede con el resto de tipo que hemos visto hasta hora, podemos realizar un print para\n",
    "# comprobar su contenido\n",
    "print(\"Estos son los valores de x:\", x)\n",
    "print(\"Estos son los valores de y:\", y)\n",
    "print(\"Estos son los valores de z:\", z)"
   ]
  },
  {
   "cell_type": "markdown",
   "metadata": {},
   "source": [
    "\\- Me ha quedado claro, pero me tienes enganchado a esto y quiero hacer el ejercicio extra. Dime como añado un elemento a mi lista.\n",
    "\n",
    "\\+ Tienes que usar la funcion append() y como las listas son colecciones de objetos, no tienes que crear una nueva variable.\n",
    "\n",
    "Si no ha quedado claro, imaginate que tu variable en este caso es una bolsa. Si quieres añadir un elemento, no hace falta que cojas una bolsa nueva. Simplemente, añade tu objeto a la bolsa y lo tendrás ahí.\n",
    "\n",
    "Veamos:"
   ]
  },
  {
   "cell_type": "code",
   "execution_count": null,
   "metadata": {},
   "outputs": [],
   "source": [
    "# Recordemos que pinta tenía z:\n",
    "print(\"z:\", z)"
   ]
  },
  {
   "cell_type": "code",
   "execution_count": null,
   "metadata": {},
   "outputs": [],
   "source": [
    "# Añadamos un elemento a z\n",
    "z.append(1)\n",
    "print(\"z:\", z)"
   ]
  },
  {
   "cell_type": "code",
   "execution_count": null,
   "metadata": {},
   "outputs": [],
   "source": [
    "# y si lo hago asi?\n",
    "print(\"z:\", z.append(2))"
   ]
  },
  {
   "cell_type": "markdown",
   "metadata": {},
   "source": [
    "**STOP!**\n",
    "\n",
    "\\- Qué ha pasado aquí? Me has engañado!!\n",
    "\n",
    "\\+ No te he engañado, te promero que z es [1,2]\n",
    "\n",
    "\\- Y por que pone **None**?\n",
    "\n",
    "\\+ Porque la funcion **append()**, como te he dicho, añade el valor a la lista, pero no devuelve nada. Recuerda \n",
    "que te dije que no te hacía una bolsa nueva y es por ello que la función **append()** no te la da.\n",
    "\n",
    "\\- No lo entiendo tío!\n",
    "\n",
    "\\+ Es fácil. Tu cuando llamas a **append()** le pides a la función que añada un elemento a tu lista, pero no le estás diciendo que te devuelva la lista en sí. De igual modo, cuando echas un objeto en tu bolsa, tu lo echas y ya está, sin preocuparte de lo que haya ya dentro. Tendrías que abrir la bolsa para ver que hay dentro.\n",
    "\n",
    "\\- Enseñame la bolsa que no te creo!"
   ]
  },
  {
   "cell_type": "code",
   "execution_count": null,
   "metadata": {},
   "outputs": [],
   "source": [
    "print(\"z:\", z)"
   ]
  },
  {
   "cell_type": "markdown",
   "metadata": {},
   "source": [
    "Es por ello que no podemos asignarlo a una nueva variable directamente, ya que en ese caso estaremos cometiendo un error."
   ]
  },
  {
   "cell_type": "code",
   "execution_count": null,
   "metadata": {},
   "outputs": [],
   "source": [
    "# así no\n",
    "z_2 = []\n",
    "z_2_mal = z_2.append(1)\n",
    "print(\"z_2:\", z_2)\n",
    "print(\"z_2_mal\", z_2_mal)"
   ]
  },
  {
   "cell_type": "code",
   "execution_count": null,
   "metadata": {},
   "outputs": [],
   "source": [
    "# así si, aunque repito, no hace falta\n",
    "z_2 = []\n",
    "z_2.append(1)\n",
    "z_2_bien = z_2\n",
    "print(\"z_2:\", z_2)\n",
    "print(\"z_2_bien:\", z_2_bien)"
   ]
  },
  {
   "cell_type": "markdown",
   "metadata": {},
   "source": [
    "### El resto de operadores de comparación."
   ]
  },
  {
   "cell_type": "markdown",
   "metadata": {},
   "source": [
    "En el ejercicio anterior vimos el operador ==, que devolvía _True_ si la parte izquierda del comparador (A) era **igual** a la derecha (B).\n",
    "\n",
    "Aquí tenéis la lista de todos, para que decidaís cual es el que tenéis que usar en este ejercicio:\n",
    "- **==**: Devuelve True si A es **igual** a B.\n",
    "- **!=**: Devuelve True si A es **distinto** de B.\n",
    "- **>=**: Devuelve True si A es **mayor o igual** a B.\n",
    "- **>**: Devuelve True si A es **mayor** a B.\n",
    "- **<=**: Devuelve True si A es **menor o igual** a B.\n",
    "- **<**: Devuelve True si A es **menor** a B."
   ]
  },
  {
   "cell_type": "markdown",
   "metadata": {},
   "source": [
    "Veamos ejemplos:"
   ]
  },
  {
   "cell_type": "code",
   "execution_count": null,
   "metadata": {},
   "outputs": [],
   "source": [
    "# ==\n",
    "print(1 == 1) # esto es verdad.\n",
    "print(\"a\" == \"a\") # esto también.\n",
    "print(1 == 2) # esto no.\n",
    "print(\"a\" == \"A\") # esto tampoco... verdad?"
   ]
  },
  {
   "cell_type": "code",
   "execution_count": null,
   "metadata": {},
   "outputs": [],
   "source": [
    "# !=\n",
    "# Como estamos comprobando lo contrario, el resultado será al revés que antes\n",
    "print(1 != 1)\n",
    "print(\"a\" != \"a\")\n",
    "print(1 != 2)\n",
    "print(\"a\" != \"A\")"
   ]
  },
  {
   "cell_type": "code",
   "execution_count": null,
   "metadata": {},
   "outputs": [],
   "source": [
    "# >=\n",
    "print(1 >= 1) # esto es verdad.\n",
    "print(\"a\" >= \"a\") # esto también, en orden alfabético, claro.\n",
    "print(1 >= 2) # esto no.\n",
    "print(\"a\" >= \"A\") # y esto? Esto si, alfabéticamente las letras minúsculas van después que las mayúsculas"
   ]
  },
  {
   "cell_type": "code",
   "execution_count": null,
   "metadata": {},
   "outputs": [],
   "source": [
    "# >\n",
    "print(1 > 1) # esto es mentira.\n",
    "print(\"a\" > \"a\") # esto también.\n",
    "print(1 > 2) # y esto.\n",
    "print(\"a\" > \"A\") # esto es verdad por lo que hemos comentado arriba."
   ]
  },
  {
   "cell_type": "code",
   "execution_count": null,
   "metadata": {},
   "outputs": [],
   "source": [
    "# <=\n",
    "print(1 <= 1) # esto es verdad.\n",
    "print(\"a\" <= \"a\") # esto también.\n",
    "print(1 <= 2) # y esto.\n",
    "print(\"a\" <= \"A\") # esto no!"
   ]
  },
  {
   "cell_type": "code",
   "execution_count": null,
   "metadata": {},
   "outputs": [],
   "source": [
    "# <\n",
    "print(1 < 1) # esto es mentira.\n",
    "print(\"a\" < \"a\") # esto también.\n",
    "print(1 < 2) # esto es verdad.\n",
    "print(\"a\" < \"A\") # esto es mentira."
   ]
  },
  {
   "cell_type": "markdown",
   "metadata": {},
   "source": [
    "### El uso de bucles de tipo **for**."
   ]
  },
  {
   "cell_type": "markdown",
   "metadata": {},
   "source": [
    "Esto es lo último que aprenderemos hoy, y es una de las maneras que tenemos de recorrer objetos en cuyo contenido puede ser más de un elemento por la naturaleza de su tipo, como en este caso, las listas.\n",
    "\n",
    "Para ello usaremos la siguiente sintaxis:\n",
    "\n",
    "```python\n",
    "for elemento in lista:\n",
    "    print(elemento)\n",
    "```\n",
    "\n",
    "Donde **elemento** es el nombre _temporal_ de nuestra variable donde recuperamos el valor del elemento de la lista actual y **lista** nuestra variable con un objeto de tipo list.\n",
    "\n",
    "Como podeís comprobar, es igual de necesario  añadir los dos puntos al final de nuestra variable y tabular el bloque de código que se ejecuta en bucle para que python sepa que todo ese código se ha de ejecutar tantas veces como elementos haya en la lista.\n",
    "\n",
    "En este caso hemos utilizado la función **print()** dentro del bucle pero podemos realizar cualquier fragmento de código que deseemos.\n",
    "\n",
    "Veamos un par de ejemplos sobre nuestras variables **x** e **y**:"
   ]
  },
  {
   "cell_type": "code",
   "execution_count": null,
   "metadata": {},
   "outputs": [],
   "source": [
    "for objeto in x:\n",
    "    print(objeto)"
   ]
  },
  {
   "cell_type": "code",
   "execution_count": null,
   "metadata": {},
   "outputs": [],
   "source": [
    "for numero in y:\n",
    "    print(numero)"
   ]
  },
  {
   "cell_type": "markdown",
   "metadata": {},
   "source": [
    "### Empecemos!!\n",
    "**Suerte**"
   ]
  },
  {
   "cell_type": "markdown",
   "metadata": {},
   "source": [
    "## Solución"
   ]
  },
  {
   "cell_type": "markdown",
   "metadata": {},
   "source": [
    "1. Ejecuta esta sentencia para tener todos la misma lista y poder comparar:"
   ]
  },
  {
   "cell_type": "code",
   "execution_count": null,
   "metadata": {},
   "outputs": [],
   "source": [
    "lista = [1, 2, 3, 5, 8, 13, 21, 34, 55, 89, 144, 233, 377, 610]"
   ]
  },
  {
   "cell_type": "markdown",
   "metadata": {},
   "source": [
    "2. Imprime todos aquellos números menores que 10:"
   ]
  },
  {
   "cell_type": "code",
   "execution_count": null,
   "metadata": {},
   "outputs": [],
   "source": []
  },
  {
   "cell_type": "markdown",
   "metadata": {},
   "source": [
    "3. Imprime todos aquellos números que sean múltiplos de 5"
   ]
  },
  {
   "cell_type": "code",
   "execution_count": null,
   "metadata": {},
   "outputs": [],
   "source": []
  },
  {
   "cell_type": "markdown",
   "metadata": {},
   "source": [
    "4. ¿A por el punto extra?"
   ]
  },
  {
   "cell_type": "code",
   "execution_count": null,
   "metadata": {},
   "outputs": [],
   "source": []
  },
  {
   "cell_type": "code",
   "execution_count": null,
   "metadata": {},
   "outputs": [],
   "source": []
  }
 ],
 "metadata": {
  "kernelspec": {
   "display_name": "Python 3",
   "language": "python",
   "name": "python3"
  },
  "language_info": {
   "codemirror_mode": {
    "name": "ipython",
    "version": 3
   },
   "file_extension": ".py",
   "mimetype": "text/x-python",
   "name": "python",
   "nbconvert_exporter": "python",
   "pygments_lexer": "ipython3",
   "version": "3.7.2"
  }
 },
 "nbformat": 4,
 "nbformat_minor": 4
}
