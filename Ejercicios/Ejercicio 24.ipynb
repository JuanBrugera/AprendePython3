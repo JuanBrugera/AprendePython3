{
 "cells": [
  {
   "cell_type": "markdown",
   "metadata": {},
   "source": [
    "# Ejercicio 24\n",
    "\n",
    "## Enunciado\n",
    "Crea un programa que:\n",
    "\n",
    "1. Pida al usuario un link de Aliexpress.\n",
    "2. Halle todos los enlaces de imágenes .jpg **distintos** disponibles mediante regex (sin utilizar BeautifulSoup) y los descargue."
   ]
  },
  {
   "cell_type": "markdown",
   "metadata": {},
   "source": [
    "### ¿Qué cosas nuevas necesitamos saber?\n",
    "- Descarga de ficheros mediante **wget**."
   ]
  },
  {
   "cell_type": "markdown",
   "metadata": {},
   "source": [
    "### Descarga de ficheros mediante **wget**\n",
    "\n",
    "La librería wget nos permite descargar ficheros de internet.\n",
    "\n",
    "Para ello, primero deberemos instalarla con pip, ya que no es una librería nativa de Python. Si no recuerdas como hacerlo, puedes consultarlo en el Ejercicio 14, por ejemplo.\n",
    "\n",
    "Veamos como utilizarla:"
   ]
  },
  {
   "cell_type": "code",
   "execution_count": null,
   "metadata": {},
   "outputs": [],
   "source": [
    "import wget"
   ]
  },
  {
   "cell_type": "code",
   "execution_count": null,
   "metadata": {},
   "outputs": [],
   "source": [
    "url_file = 'https://ae01.alicdn.com/kf/Ud26312a248cc4456bcf99d796718b144k/Xiaomi-Redmi-Note-9S-64GB-Dual-Sim-Gris.jpg'"
   ]
  },
  {
   "cell_type": "code",
   "execution_count": 3,
   "metadata": {},
   "outputs": [
    {
     "name": "stdout",
     "output_type": "stream",
     "text": [
      "100% [............................................................................] 202571 / 202571"
     ]
    },
    {
     "data": {
      "text/plain": [
       "'Xiaomi-Redmi-Note-9S-64GB-Dual-Sim-Gris.jpg'"
      ]
     },
     "execution_count": 3,
     "metadata": {},
     "output_type": "execute_result"
    }
   ],
   "source": [
    "wget.download(url_file)"
   ]
  },
  {
   "cell_type": "markdown",
   "metadata": {},
   "source": [
    "Como habéis podido comprobar, se habrá descargado un fichero con nombre **Xiaomi-Redmi-Note-9S-64GB-Dual-Sim-Gris.jpg** en la carpeta dónde esté este notebook.\n",
    "\n",
    "Suerte!"
   ]
  },
  {
   "cell_type": "markdown",
   "metadata": {},
   "source": [
    "## Solución"
   ]
  },
  {
   "cell_type": "markdown",
   "metadata": {},
   "source": [
    "Recuerda analizar el código fuente de la página para poder hacer tu regex lo más específica posible y evitar resultados indeseados ;)\n",
    "\n",
    "Para probar tus regex, puedes usar esta página [regex101](https://regex101.com/)."
   ]
  }
 ],
 "metadata": {
  "kernelspec": {
   "display_name": "Python 3",
   "language": "python",
   "name": "python3"
  },
  "language_info": {
   "codemirror_mode": {
    "name": "ipython",
    "version": 3
   },
   "file_extension": ".py",
   "mimetype": "text/x-python",
   "name": "python",
   "nbconvert_exporter": "python",
   "pygments_lexer": "ipython3",
   "version": "3.7.2"
  }
 },
 "nbformat": 4,
 "nbformat_minor": 4
}
