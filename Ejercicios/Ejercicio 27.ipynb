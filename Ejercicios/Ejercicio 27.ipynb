{
 "cells": [
  {
   "cell_type": "markdown",
   "metadata": {},
   "source": [
    "# Ejercicio 27\n",
    "\n",
    "## Enunciado\n",
    "Crea un programa que:\n",
    "\n",
    "1. Pida al usuario un número por consola.\n",
    "2. Genere un número aleatorio entre 0 y 2 (ambos incluidos).\n",
    "3. Devuelva el resultado por pantalla cuando se pueda o indique el error que se ha producido."
   ]
  },
  {
   "cell_type": "markdown",
   "metadata": {},
   "source": [
    "### ¿Qué cosas nuevas necesitamos saber?\n",
    "- Control de excepciones."
   ]
  },
  {
   "cell_type": "markdown",
   "metadata": {},
   "source": [
    "### Control de excepciones.\n",
    "\n",
    "Mediante el control de excepciones preveemos posibles casos en los que nuestro programa dar lugar a un error y por lo tanto detenerse, evitando así tal situación.\n",
    "\n",
    "Veamos un ejemplo:"
   ]
  },
  {
   "cell_type": "code",
   "execution_count": 1,
   "metadata": {},
   "outputs": [
    {
     "name": "stdin",
     "output_type": "stream",
     "text": [
      "Escribe un número:  5\n"
     ]
    }
   ],
   "source": [
    "numero = int(input(\"Escribe un número: \"))"
   ]
  },
  {
   "cell_type": "markdown",
   "metadata": {},
   "source": [
    "Como podemos comprobar, la sentencia anterior no da ningún problema siempre y cuando el usuario haga lo que se le pida, es decir, introducir un número.\n",
    "\n",
    "No obstante, si el usuario decide introducir caracteres no numéricos, la sentencia provoca una excepcion haciendo que el programa se detenga."
   ]
  },
  {
   "cell_type": "code",
   "execution_count": 2,
   "metadata": {},
   "outputs": [
    {
     "name": "stdin",
     "output_type": "stream",
     "text": [
      "Escribe un número:  No quiero\n"
     ]
    },
    {
     "ename": "ValueError",
     "evalue": "invalid literal for int() with base 10: 'No quiero'",
     "output_type": "error",
     "traceback": [
      "\u001b[1;31m---------------------------------------------------------------------------\u001b[0m",
      "\u001b[1;31mValueError\u001b[0m                                Traceback (most recent call last)",
      "\u001b[1;32m<ipython-input-2-6e717db32a70>\u001b[0m in \u001b[0;36m<module>\u001b[1;34m\u001b[0m\n\u001b[1;32m----> 1\u001b[1;33m \u001b[0mnumero\u001b[0m \u001b[1;33m=\u001b[0m \u001b[0mint\u001b[0m\u001b[1;33m(\u001b[0m\u001b[0minput\u001b[0m\u001b[1;33m(\u001b[0m\u001b[1;34m\"Escribe un número: \"\u001b[0m\u001b[1;33m)\u001b[0m\u001b[1;33m)\u001b[0m\u001b[1;33m\u001b[0m\u001b[1;33m\u001b[0m\u001b[0m\n\u001b[0m",
      "\u001b[1;31mValueError\u001b[0m: invalid literal for int() with base 10: 'No quiero'"
     ]
    }
   ],
   "source": [
    "numero = int(input(\"Escribe un número: \"))"
   ]
  },
  {
   "cell_type": "markdown",
   "metadata": {},
   "source": [
    "¿Cómo lo evitamos?\n",
    "\n",
    "Mediante el control de excepciones.\n",
    "\n",
    "Veamos como:"
   ]
  },
  {
   "cell_type": "code",
   "execution_count": 8,
   "metadata": {},
   "outputs": [
    {
     "name": "stdin",
     "output_type": "stream",
     "text": [
      "Escribe un número:  1\n"
     ]
    }
   ],
   "source": [
    "try:\n",
    "    numero = int(input(\"Escribe un número: \"))\n",
    "except ValueError as ve:\n",
    "    print(ve)"
   ]
  },
  {
   "cell_type": "markdown",
   "metadata": {},
   "source": [
    "Como podemos comprobar en el caso anterior, cuando introducimos un número el programa sigue su comportamiento habitual. En caso contrario, captura la excepción y la imprime, continuando con el comportamiento normal del programa.\n",
    "\n",
    "No obstante, hemos de tener en cuenta que lo más probable es que se haga referencia a la variable número más delante, por lo que lo ideal sería repetir dicho código en un bucle del tipo while hasta tener un valor válido:"
   ]
  },
  {
   "cell_type": "code",
   "execution_count": 9,
   "metadata": {},
   "outputs": [
    {
     "name": "stdin",
     "output_type": "stream",
     "text": [
      "Escribe un número:  hola\n"
     ]
    },
    {
     "name": "stdout",
     "output_type": "stream",
     "text": [
      "invalid literal for int() with base 10: 'hola'\n"
     ]
    },
    {
     "name": "stdin",
     "output_type": "stream",
     "text": [
      "Escribe un número:  amigo\n"
     ]
    },
    {
     "name": "stdout",
     "output_type": "stream",
     "text": [
      "invalid literal for int() with base 10: 'amigo'\n"
     ]
    },
    {
     "name": "stdin",
     "output_type": "stream",
     "text": [
      "Escribe un número:  10\n"
     ]
    }
   ],
   "source": [
    "numero = None\n",
    "while not numero:\n",
    "    try:\n",
    "        numero = int(input(\"Escribe un número: \"))\n",
    "    except ValueError as ve:\n",
    "        print(ve)"
   ]
  },
  {
   "cell_type": "markdown",
   "metadata": {},
   "source": [
    "Como podemos ver, este código se ejecuta sin dar lugar a error mientras no introduzcamos un número válido.\n",
    "\n",
    "Por otra parte, en este caso estamos usando ValueError como tipo de excepción ya que hemos visto en el error que ese es el tipo de excepción devuelto.\n",
    "\n",
    "No obstante, podemos utilizar el tipo Exception como comodín cuando no sepamos el tipo de excepción devuelto:"
   ]
  },
  {
   "cell_type": "code",
   "execution_count": 11,
   "metadata": {},
   "outputs": [
    {
     "name": "stdin",
     "output_type": "stream",
     "text": [
      "Escribe un número:  Hola de nuevo\n"
     ]
    },
    {
     "name": "stdout",
     "output_type": "stream",
     "text": [
      "invalid literal for int() with base 10: 'Hola de nuevo'\n"
     ]
    },
    {
     "name": "stdin",
     "output_type": "stream",
     "text": [
      "Escribe un número:  5\n"
     ]
    }
   ],
   "source": [
    "numero = None\n",
    "while not numero:\n",
    "    try:\n",
    "        numero = int(input(\"Escribe un número: \"))\n",
    "    except Exception as e:\n",
    "        print(e)"
   ]
  },
  {
   "cell_type": "markdown",
   "metadata": {},
   "source": [
    "Como podemos comprobar, el resultado es el mismo."
   ]
  },
  {
   "cell_type": "markdown",
   "metadata": {},
   "source": [
    "Eso es todo, a por ello!"
   ]
  },
  {
   "cell_type": "markdown",
   "metadata": {},
   "source": [
    "## Solución"
   ]
  }
 ],
 "metadata": {
  "kernelspec": {
   "display_name": "Python 3",
   "language": "python",
   "name": "python3"
  },
  "language_info": {
   "codemirror_mode": {
    "name": "ipython",
    "version": 3
   },
   "file_extension": ".py",
   "mimetype": "text/x-python",
   "name": "python",
   "nbconvert_exporter": "python",
   "pygments_lexer": "ipython3",
   "version": "3.8.2"
  }
 },
 "nbformat": 4,
 "nbformat_minor": 4
}
