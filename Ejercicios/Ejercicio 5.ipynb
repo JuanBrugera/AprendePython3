{
 "cells": [
  {
   "cell_type": "markdown",
   "metadata": {},
   "source": [
    "# Ejercicio 5\n",
    "\n",
    "## Enunciado\n",
    "Crea un programa que dadas tres listas de elementos:\n",
    "\n",
    "1. Cree una nueva lista con los elementos en común y sin duplicados.\n",
    "\n",
    "Extras:\n",
    "\n",
    "2. Realiza el ejercicio utilizando ***List Comprehension*** en un máximo de 3 líneas incluido el print()."
   ]
  },
  {
   "cell_type": "markdown",
   "metadata": {},
   "source": [
    "### ¿Qué cosas nuevas necesitamos saber?\n",
    "- Los operados lógicos.\n",
    "- El operador de membresía **in**.\n",
    "- La concatenación de listas."
   ]
  },
  {
   "cell_type": "markdown",
   "metadata": {},
   "source": [
    "Veamos ejemplos de ambos objetivos:"
   ]
  },
  {
   "cell_type": "markdown",
   "metadata": {},
   "source": [
    "### Los operadores lógicos.\n",
    "Son operadores que evalúan elementos del tipo **bool**.\n",
    "\n",
    "* and: Evalúa dos elementos y devuelve True si el valor de ambos es True. En caso contratio devuelve False.\n",
    "* or: Evalúa dos elementos y devuelve True si el valor de al menos uno de ellos es True. En caso contratio devuelve False.\n",
    "* not: Evalúa un único elemento y devuelve la negación del mismo. Es decir, si es True, devuelve False y viceversa."
   ]
  },
  {
   "cell_type": "code",
   "execution_count": null,
   "metadata": {},
   "outputs": [],
   "source": [
    "# resultados del operador and.\n",
    "print(True and True)\n",
    "print(True and False)\n",
    "print(False and True)\n",
    "print(False and False)\n",
    "\n",
    "print(\"-----\")\n",
    "\n",
    "# recordad que los operadores condicionales devuelven elementos del tipo bool, por lo que podemos hacer esto:\n",
    "print(1==1 and 2==2) # ambas condiciones son True y por ello and devuelve True\n",
    "print(1==2 and 3==3) # una condición se cumple y la otra no y por ello and devuelve False"
   ]
  },
  {
   "cell_type": "code",
   "execution_count": null,
   "metadata": {},
   "outputs": [],
   "source": [
    "# resultados del operador or.\n",
    "print(True or True)\n",
    "print(True or False)\n",
    "print(False or True)\n",
    "print(False or False)\n",
    "\n",
    "print(\"-----\")\n",
    "\n",
    "# recordad que los operadores condicionales devuelven elementos del tipo bool, por lo que podemos hacer esto:\n",
    "print(1==1 or 2==2) # ambas condiciones son True y por ello or devuelve True\n",
    "print(1==2 or 3==3) # una condición se cumple y la otra no y por ello or devuelve True"
   ]
  },
  {
   "cell_type": "code",
   "execution_count": null,
   "metadata": {},
   "outputs": [],
   "source": [
    "# resultados del operador no.\n",
    "print(not True)\n",
    "print(not False)\n",
    "\n",
    "print(\"-----\")\n",
    "\n",
    "# recordad que los operadores condicionales devuelven elementos del tipo bool, por lo que podemos hacer esto:\n",
    "print(not 1==1) # como 1 es igual 1 (True) la función not devuelve False\n",
    "print(not 1==2) # como 1 no es igual 2 (False) la función not devuelve True"
   ]
  },
  {
   "cell_type": "markdown",
   "metadata": {},
   "source": [
    "**NOTA**: Al encadenar varios operadores lógicos, debemos utilizar paréntesis para aseguranos de que las expresiones se evaluen en el orden correcto.\n",
    "\n",
    "Veamos como puede afectar el uso de los paréntesis:"
   ]
  },
  {
   "cell_type": "code",
   "execution_count": null,
   "metadata": {},
   "outputs": [],
   "source": [
    "print(True and True or False and False)\n",
    "print(True and (True or False) and False)"
   ]
  },
  {
   "cell_type": "markdown",
   "metadata": {},
   "source": [
    "Ello es debido al orden de asociación de los operadores.\n",
    "\n",
    "Os lo dejo aquí de mayor prioridad a menor:\n",
    "\n",
    "| Operador          | Descripción                                      |\n",
    "|-------------------|--------------------------------------------------|\n",
    "| ()                | Paréntesis                                       |\n",
    "| \\*, /, %          | Operadores de multiplicación, división y resto.  |\n",
    "| +, -              | Operadores de suma y resta.                      |\n",
    "| ==, !=, >=, etc.  | Operadores de comparación.                       |\n",
    "| not               | Operador **not**.                                |\n",
    "| and               | Operador **and**.                                |\n",
    "| or                | Operador **or**.                                 |"
   ]
  },
  {
   "cell_type": "markdown",
   "metadata": {},
   "source": [
    "### El operador de membresía in.\n",
    "El operador in es el operador que nos indica si un elemento en particular pertenece a una colección, como por ejemplo, una lista.\n",
    "\n",
    "En caso afirmativo devuelve True y en el contrario devuelve False.\n",
    "\n",
    "Veamos:"
   ]
  },
  {
   "cell_type": "code",
   "execution_count": null,
   "metadata": {},
   "outputs": [],
   "source": [
    "x = [1, 2, 3, 4, 5]\n",
    "print(1 in x) # esto es True ya que 1 es el primer elemento de la lista.\n",
    "print(3 in x) # esto es True también\n",
    "print(6 in x) # esto es False\n",
    "print(\"a\" in x) # esto es False. Recordad que todos los elementos de una lista no tenían por que ser del mismo tipo.\n",
    "\n",
    "print(\"-----\")\n",
    "\n",
    "# recordad que los operadores anteriores se evalúan sobre elementos del tipo bool y por ello podríamos hacer esto:\n",
    "print(1 not in x)\n",
    "print(not 1 in x) # esto tambíen se puede hacer, pero la manera correcta es la de encima"
   ]
  },
  {
   "cell_type": "markdown",
   "metadata": {},
   "source": [
    "### La concatenación de listas.\n",
    "Para concatenar dos listas, igual que hacemos con los **str** (al fin y al cabo, los strings son listas de caracteres), basta con utilizar el operador +.\n",
    "\n",
    "Veamos:"
   ]
  },
  {
   "cell_type": "code",
   "execution_count": null,
   "metadata": {},
   "outputs": [],
   "source": [
    "l1 = [1, 2, 3, 4, 5, 6]\n",
    "l2 = [5, 6, 7, 8, 9, 0]\n",
    "\n",
    "print(\"l1 + l2:\", l1 + l2)\n",
    "print(\"l2 + l1:\", l2 + l1)\n",
    "\n",
    "# como podeís comprobar, los elementos se representan respetando el orden de la operación"
   ]
  },
  {
   "cell_type": "markdown",
   "metadata": {},
   "source": [
    "## Solución"
   ]
  },
  {
   "cell_type": "markdown",
   "metadata": {},
   "source": [
    "Utiliza las listas e1, e2 y e3 para resolver el ejercicio."
   ]
  },
  {
   "cell_type": "code",
   "execution_count": null,
   "metadata": {},
   "outputs": [],
   "source": [
    "e1 = [\"k\", \"b\", \"i\", \"a\", \"g\", \"f\", \"e\", \"d\", \"c\", \"j\", \"h\"]\n",
    "e2 = [\"z\", \"a\", \"y\", \"b\", \"x\", \"c\", \"w\", \"d\", \"v\", \"e\", \"u\"]\n",
    "e3 = [\"z\", \"c\", \"d\", \"w\", \"e\", \"b\", \"a\", \"d\", \"v\", \"q\", \"p\"]"
   ]
  }
 ],
 "metadata": {
  "kernelspec": {
   "display_name": "Python 3",
   "language": "python",
   "name": "python3"
  },
  "language_info": {
   "codemirror_mode": {
    "name": "ipython",
    "version": 3
   },
   "file_extension": ".py",
   "mimetype": "text/x-python",
   "name": "python",
   "nbconvert_exporter": "python",
   "pygments_lexer": "ipython3",
   "version": "3.7.2"
  }
 },
 "nbformat": 4,
 "nbformat_minor": 4
}
