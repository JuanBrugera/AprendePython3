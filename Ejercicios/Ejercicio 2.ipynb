{
 "cells": [
  {
   "cell_type": "markdown",
   "metadata": {},
   "source": [
    "# Ejercicio 2\n",
    "\n",
    "## Enunciado\n",
    "Crea un programa que:\n",
    "1. Le pregunte al usuario un **número**.\n",
    "2. Le indique al usuario si el número en cuestión es par o impar.\n",
    "\n",
    "Extra:\n",
    "\n",
    "3. De manera adicional, en caso de que el número sea 0 el programa ha de responder \"No lo sé, pregunta a un matemático\""
   ]
  },
  {
   "cell_type": "markdown",
   "metadata": {},
   "source": [
    "### Recapitulemos\n",
    "Antes de comenzar vamos a ver que conceptos de la lección anterior vamos a necesitar:\n",
    "1. La función input() para preguntar el número al usuario.\n",
    "2. La función int() para... (tan fácil no os lo iba a poner).\n",
    "3. La función str() ...\n",
    "\n",
    "El resto de cosas, creo que se os habrá quedado de ayer."
   ]
  },
  {
   "cell_type": "markdown",
   "metadata": {},
   "source": [
    "### ¿Qué cosas nuevas necesitamos saber?\n",
    "- El operador binario **%** que nos devuelve el [módulo](https://es.wikipedia.org/wiki/Operaci%C3%B3n_m%C3%B3dulo) de la división.\n",
    "- El operador lógico **==** y el tipo **bool**.\n",
    "- La ejecución de condicionates mediante las claúsulas del tipo **if-elif-else**."
   ]
  },
  {
   "cell_type": "markdown",
   "metadata": {},
   "source": [
    "Veamos ejemplos de ambos objetivos:"
   ]
  },
  {
   "cell_type": "markdown",
   "metadata": {},
   "source": [
    "### El operador binario % (módulo) o **resto** de la división entre número enteros (int)."
   ]
  },
  {
   "cell_type": "code",
   "execution_count": 1,
   "metadata": {},
   "outputs": [],
   "source": [
    "# primero, declaremos algunas variables para ilustrar nuestros ejemplos\n",
    "u = 1\n",
    "d = 2\n",
    "t = 3\n",
    "c = 4\n",
    "z = 5"
   ]
  },
  {
   "cell_type": "code",
   "execution_count": 2,
   "metadata": {},
   "outputs": [
    {
     "name": "stdout",
     "output_type": "stream",
     "text": [
      "0\n"
     ]
    }
   ],
   "source": [
    "print(z % u) # esto devuelve 0 porque el número 5 contiene 5 veces exactas al número 1"
   ]
  },
  {
   "cell_type": "code",
   "execution_count": 3,
   "metadata": {},
   "outputs": [
    {
     "name": "stdout",
     "output_type": "stream",
     "text": [
      "2\n"
     ]
    }
   ],
   "source": [
    "print(z % t) # esto devuelve 2 (dicho de otra forma) si dividimos 5 entre 3 el resto de la división es 2"
   ]
  },
  {
   "cell_type": "code",
   "execution_count": 4,
   "metadata": {},
   "outputs": [
    {
     "name": "stdout",
     "output_type": "stream",
     "text": [
      "3\n"
     ]
    }
   ],
   "source": [
    "print(t % c) # esto devuelve 3 porque 3 entre 4 (en números enteros) es 0 y el resto es 3"
   ]
  },
  {
   "cell_type": "markdown",
   "metadata": {},
   "source": [
    "### El operador lógico == (igual a) y el tipo bool."
   ]
  },
  {
   "cell_type": "markdown",
   "metadata": {},
   "source": [
    "Un simbolo igual duplicado (==) nos sirve para comprobar si la parte de la izquierda del operador es igual a la parte derecha del operador.\n",
    "\n",
    "El resultado de aplicar este operador, nos devuelve un objeto del tipo bool. Este solo puede tomar los valores **True** (verdadero) o **False** (falso).\n",
    "\n",
    "Nótese que las mayúsculas **SI** importan."
   ]
  },
  {
   "cell_type": "code",
   "execution_count": 5,
   "metadata": {},
   "outputs": [
    {
     "name": "stdout",
     "output_type": "stream",
     "text": [
      "True\n",
      "<class 'bool'>\n"
     ]
    }
   ],
   "source": [
    "verdadero_1 = u == u\n",
    "print(verdadero_1) # esto pintará True en la pantalla porque 1 es igual a 1\n",
    "print(type(verdadero_1)) # esto pintará bool (de una forma poco amigable que de momento ignoraremos)"
   ]
  },
  {
   "cell_type": "code",
   "execution_count": 6,
   "metadata": {},
   "outputs": [
    {
     "name": "stdout",
     "output_type": "stream",
     "text": [
      "False\n",
      "<class 'bool'>\n"
     ]
    }
   ],
   "source": [
    "falso_1 = u == d\n",
    "print(falso_1) # esto pintará False en la pantalla porque 1 no es igual a 2\n",
    "print(type(falso_1)) # lo mismo, a partir de ahora no hace falta que lo comprobemos más"
   ]
  },
  {
   "cell_type": "code",
   "execution_count": 7,
   "metadata": {},
   "outputs": [
    {
     "name": "stdout",
     "output_type": "stream",
     "text": [
      "True False\n"
     ]
    }
   ],
   "source": [
    "verdadero_2 = d == d\n",
    "falso_2 = d == z\n",
    "print(verdadero_2, falso_2) # esto pintará True False ya que la primera condición es verdad (2 es 2) y la \n",
    "# segunda es mentira (2 no es 5)\n",
    "# si habéis estado finos, veréis que a la función print() se le pueden pasar tantos argumentos como se quiera\n",
    "# y la propia función los separa por espacios"
   ]
  },
  {
   "cell_type": "markdown",
   "metadata": {},
   "source": [
    "### El uso de sentencias condicionantes simples (if-else) y encadenadas (if-elif-else)"
   ]
  },
  {
   "cell_type": "markdown",
   "metadata": {},
   "source": [
    "Solo falta comprender los condicionates\n",
    "- Los simples constan de una cláusula if, que evalua un objeto de tipo bool, y de manera opcional, una cláusula else, que se ejecuta si y solo si no se ejecuta la cláusula if.\n",
    "- Los encadenados funcionan de manera similar intercalando la cláusula elif (conjunción de else-if) tantas veces como se precise. Se evalúan en orden y en caso de que una condición se cumpla no se evalúan las demás.\n",
    "\n",
    "Para que Python pueda interpretar correctamente que depende de la condición y que no, se ha de tabular el código con una tabulación o cuatro (4) espacios y cada evaluación de la condición debe terminar en dos puntos (:)\n",
    "\n",
    "Veamos:"
   ]
  },
  {
   "cell_type": "code",
   "execution_count": 8,
   "metadata": {},
   "outputs": [],
   "source": [
    "if u == t:\n",
    "    print(\"Hola\") # esto no imprime nada porque 1 no es igual a 3"
   ]
  },
  {
   "cell_type": "code",
   "execution_count": 9,
   "metadata": {},
   "outputs": [
    {
     "name": "stdout",
     "output_type": "stream",
     "text": [
      "Hola\n"
     ]
    }
   ],
   "source": [
    "if t == t:\n",
    "    print(\"Hola\") # esto si imprime \"Hola\" porque 3 es igual a 3"
   ]
  },
  {
   "cell_type": "code",
   "execution_count": 10,
   "metadata": {},
   "outputs": [
    {
     "name": "stdout",
     "output_type": "stream",
     "text": [
      "Adios\n"
     ]
    }
   ],
   "source": [
    "if u == t:\n",
    "    print(\"Hola\")\n",
    "else:\n",
    "    print(\"Adios\") # esto imprime \"Adios\" porque la primera condición no se cumple"
   ]
  },
  {
   "cell_type": "code",
   "execution_count": 11,
   "metadata": {},
   "outputs": [
    {
     "name": "stdout",
     "output_type": "stream",
     "text": [
      "Hola\n"
     ]
    }
   ],
   "source": [
    "if t == t:\n",
    "    print(\"Hola\") # esto imprime \"Hola\" porque la primera condición se cumple y no evalúa lo demás\n",
    "else:\n",
    "    print(\"Adios\") "
   ]
  },
  {
   "cell_type": "code",
   "execution_count": 12,
   "metadata": {},
   "outputs": [
    {
     "name": "stdout",
     "output_type": "stream",
     "text": [
      "Es 3\n"
     ]
    }
   ],
   "source": [
    "if u == t:\n",
    "    print(\"Es 1\")\n",
    "elif d == t:\n",
    "    print(\"Es 2\")\n",
    "elif t == t:\n",
    "    print(\"Es 3\") # esto imprime \"Es 3\" porque la primera condición y la segunda no se cumplen pero la 3a si\n",
    "else:\n",
    "    print(\"No se\")"
   ]
  },
  {
   "cell_type": "code",
   "execution_count": 13,
   "metadata": {},
   "outputs": [
    {
     "name": "stdout",
     "output_type": "stream",
     "text": [
      "Es 2\n"
     ]
    }
   ],
   "source": [
    "if u == t:\n",
    "    print(\"Es 1\")\n",
    "elif d == d:\n",
    "    print(\"Es 2\") # esto imprime \"Es 2\" porque a pesar de que la 2a y la 3a condición se cumplen, la 2a se cumple antes\n",
    "elif t == t:\n",
    "    print(\"Es 3\")\n",
    "else:\n",
    "    print(\"No se\")"
   ]
  },
  {
   "cell_type": "code",
   "execution_count": 14,
   "metadata": {},
   "outputs": [
    {
     "name": "stdout",
     "output_type": "stream",
     "text": [
      "Es 2\n"
     ]
    }
   ],
   "source": [
    "# lo mismo pero sin else\n",
    "if u == t:\n",
    "    print(\"Es 1\")\n",
    "elif d == d:\n",
    "    print(\"Es 2\")\n",
    "elif t == t:\n",
    "    print(\"Es 3\")"
   ]
  },
  {
   "cell_type": "code",
   "execution_count": 15,
   "metadata": {},
   "outputs": [
    {
     "name": "stdout",
     "output_type": "stream",
     "text": [
      "No se\n"
     ]
    }
   ],
   "source": [
    "if u == c:\n",
    "    print(\"Es 1\")\n",
    "elif d == c:\n",
    "    print(\"Es 2\")\n",
    "elif t == c:\n",
    "    print(\"Es 3\")\n",
    "else:\n",
    "    print(\"No se\") # esto imprime \"No se\" porque ninguna se ha cumplido"
   ]
  },
  {
   "cell_type": "markdown",
   "metadata": {},
   "source": [
    "### Empecemos!!\n",
    "**Suerte**"
   ]
  },
  {
   "cell_type": "markdown",
   "metadata": {},
   "source": [
    "## Solución"
   ]
  },
  {
   "cell_type": "markdown",
   "metadata": {},
   "source": [
    "1. Pide al usuario un número."
   ]
  },
  {
   "cell_type": "code",
   "execution_count": null,
   "metadata": {},
   "outputs": [],
   "source": []
  },
  {
   "cell_type": "markdown",
   "metadata": {},
   "source": [
    "2. Comprueba si es par o impar usando el operador %."
   ]
  },
  {
   "cell_type": "code",
   "execution_count": null,
   "metadata": {},
   "outputs": [],
   "source": []
  },
  {
   "cell_type": "markdown",
   "metadata": {},
   "source": [
    "3. Indica al usuario si el número que ha elegido es par o impar y, si te animas, en caso de que el número sea 0, que le mande preguntar a un matemático.\n",
    "\n",
    "El resultado ha de tener este aspecto en base al número que le entre:\n",
    "- Si es 0 -> **No lo sé, pregunta a un matemático.** (Esto solo si se va a por el extra)\n",
    "- Si es 1 -> **El número 1 es impar.** (Lo mismo para todos los impares)\n",
    "- Si es 2 -> **El número 2 es par.** (Lo mismo para todos los pares o si es 0 en la versión fácil del ejercicio)\n",
    "\n",
    "Nótese que el número del resultado ha de variar acorde al introducido por el usuario."
   ]
  },
  {
   "cell_type": "code",
   "execution_count": null,
   "metadata": {},
   "outputs": [],
   "source": []
  }
 ],
 "metadata": {
  "kernelspec": {
   "display_name": "Python 3",
   "language": "python",
   "name": "python3"
  },
  "language_info": {
   "codemirror_mode": {
    "name": "ipython",
    "version": 3
   },
   "file_extension": ".py",
   "mimetype": "text/x-python",
   "name": "python",
   "nbconvert_exporter": "python",
   "pygments_lexer": "ipython3",
   "version": "3.7.2"
  }
 },
 "nbformat": 4,
 "nbformat_minor": 4
}
