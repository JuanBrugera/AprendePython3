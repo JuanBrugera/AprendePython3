{
 "cells": [
  {
   "cell_type": "markdown",
   "metadata": {},
   "source": [
    "# Repaso 4\n",
    "\n",
    "## Enunciado\n",
    "\n",
    "Crea un programa que te permita parsear los datos de un producto de Aliexpress a través de una clase. Es decir, has de crear una clase cuyo constructor reciba un enlace a un producto de Aliexpress y a patir de ahí obtenga la información del precio, título, etc.\n",
    "\n",
    "Añade un método a la clase que te permita descargar las imágenes si lo deseas.\n",
    "\n",
    "## Aclaraciones\n",
    "\n",
    "1. La información a obtener queda a cuenta de cada uno. Dado que es un producto para comprar lo más relevante sería el precio y el nombre del artículo, pero queda a elección personal que os resulta de interés."
   ]
  },
  {
   "cell_type": "markdown",
   "metadata": {},
   "source": [
    "## Solución"
   ]
  },
  {
   "cell_type": "code",
   "execution_count": 29,
   "metadata": {},
   "outputs": [],
   "source": [
    "import requests\n",
    "from bs4 import BeautifulSoup\n",
    "import wget\n",
    "import re"
   ]
  },
  {
   "cell_type": "code",
   "execution_count": 53,
   "metadata": {},
   "outputs": [],
   "source": [
    "class AEScraper:\n",
    "    url = None\n",
    "    text = None\n",
    "    soup = None\n",
    "    \n",
    "    def __init__(self, url):\n",
    "        self.url = url\n",
    "        self.text = requests.get(self.url).text\n",
    "        self.soup = BeautifulSoup(self.text)\n",
    "    \n",
    "    def get_title(self):\n",
    "        return self.soup.find('title').text.split(\"|\")[0].strip()\n",
    "    \n",
    "    def get_price(self):\n",
    "        price_pattern = re.compile(r'\\\"formatedActivityPrice\\\":\\\"(.*?)\\\"')\n",
    "        return price_pattern.findall(self.text)[0]\n",
    "    \n",
    "    def download_images(self):\n",
    "        image_pattern = re.compile(r'https://ae01.alicdn.com/kf/[a-zA-Z0-9]+/.*?\\.jpg')\n",
    "        links = set(image_pattern.findall(self.text))\n",
    "        for link in links:\n",
    "            wget.download(link)"
   ]
  },
  {
   "cell_type": "code",
   "execution_count": 6,
   "metadata": {},
   "outputs": [
    {
     "name": "stdin",
     "output_type": "stream",
     "text": [
      "Dame un enlance de Aliexpress:  https://es.aliexpress.com/item/32855791603.html\n"
     ]
    }
   ],
   "source": [
    "url = input(\"Dame un enlance de Aliexpress: \")"
   ]
  },
  {
   "cell_type": "code",
   "execution_count": 54,
   "metadata": {},
   "outputs": [],
   "source": [
    "aes = AEScraper(url)"
   ]
  },
  {
   "cell_type": "code",
   "execution_count": 56,
   "metadata": {},
   "outputs": [
    {
     "data": {
      "text/plain": [
       "'€ 3,64 - 85,77'"
      ]
     },
     "execution_count": 56,
     "metadata": {},
     "output_type": "execute_result"
    }
   ],
   "source": [
    "aes.get_price()"
   ]
  },
  {
   "cell_type": "code",
   "execution_count": 57,
   "metadata": {},
   "outputs": [
    {
     "data": {
      "text/plain": [
       "'Sandisk Ultra Micro SD de 32 GB 128 GB 64 GB 256GB 16G tarjeta Micro SD de 400 GB SD/ tarjeta de memoria Flash TF 32 64 128 gb microSD para teléfono'"
      ]
     },
     "execution_count": 57,
     "metadata": {},
     "output_type": "execute_result"
    }
   ],
   "source": [
    "aes.get_title()"
   ]
  },
  {
   "cell_type": "code",
   "execution_count": 58,
   "metadata": {},
   "outputs": [
    {
     "name": "stdout",
     "output_type": "stream",
     "text": [
      "100% [..............................................................................] 57201 / 57201"
     ]
    }
   ],
   "source": [
    "aes.download_images()"
   ]
  },
  {
   "cell_type": "code",
   "execution_count": null,
   "metadata": {},
   "outputs": [],
   "source": []
  }
 ],
 "metadata": {
  "kernelspec": {
   "display_name": "Python 3",
   "language": "python",
   "name": "python3"
  },
  "language_info": {
   "codemirror_mode": {
    "name": "ipython",
    "version": 3
   },
   "file_extension": ".py",
   "mimetype": "text/x-python",
   "name": "python",
   "nbconvert_exporter": "python",
   "pygments_lexer": "ipython3",
   "version": "3.8.2"
  }
 },
 "nbformat": 4,
 "nbformat_minor": 4
}
