{
 "cells": [
  {
   "cell_type": "markdown",
   "metadata": {},
   "source": [
    "# Repaso 4\n",
    "\n",
    "## Enunciado\n",
    "\n",
    "Crea un programa que te permita parsear los datos de un producto de Aliexpress a través de una clase. Es decir, has de crear una clase cuyo constructor reciba un enlace a un producto de Aliexpress y a patir de ahí obtenga la información del precio, título, etc.\n",
    "\n",
    "Añade un método a la clase que te permita descargar las imágenes si lo deseas.\n",
    "\n",
    "## Aclaraciones\n",
    "\n",
    "1. La información a obtener queda a cuenta de cada uno. Dado que es un producto para comprar lo más relevante sería el precio y el nombre del artículo, pero queda a elección personal que os resulta de interés."
   ]
  },
  {
   "cell_type": "markdown",
   "metadata": {},
   "source": [
    "## Solución"
   ]
  }
 ],
 "metadata": {
  "kernelspec": {
   "display_name": "Python 3",
   "language": "python",
   "name": "python3"
  },
  "language_info": {
   "codemirror_mode": {
    "name": "ipython",
    "version": 3
   },
   "file_extension": ".py",
   "mimetype": "text/x-python",
   "name": "python",
   "nbconvert_exporter": "python",
   "pygments_lexer": "ipython3",
   "version": "3.8.2"
  }
 },
 "nbformat": 4,
 "nbformat_minor": 4
}
